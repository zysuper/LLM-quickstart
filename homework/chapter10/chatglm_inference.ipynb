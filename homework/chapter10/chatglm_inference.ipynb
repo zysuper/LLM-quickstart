{
 "cells": [
  {
   "cell_type": "markdown",
   "id": "fc5bde60-1899-461d-8083-3ee04ac7c099",
   "metadata": {},
   "source": [
    "# 模型推理 - 使用 QLoRA 微调后的 ChatGLM-6B"
   ]
  },
  {
   "cell_type": "code",
   "execution_count": 1,
   "id": "3292b88c-91f0-48d2-91a5-06b0830c7e70",
   "metadata": {},
   "outputs": [
    {
     "name": "stderr",
     "output_type": "stream",
     "text": [
      "/home/zysuper/workspace3/LLM-quickstart/.conda/lib/python3.10/site-packages/tqdm/auto.py:21: TqdmWarning: IProgress not found. Please update jupyter and ipywidgets. See https://ipywidgets.readthedocs.io/en/stable/user_install.html\n",
      "  from .autonotebook import tqdm as notebook_tqdm\n"
     ]
    }
   ],
   "source": [
    "import torch\n",
    "from transformers import AutoModel, AutoTokenizer, BitsAndBytesConfig\n",
    "\n",
    "# 模型ID或本地路径\n",
    "model_name_or_path = 'THUDM/chatglm3-6b'"
   ]
  },
  {
   "cell_type": "code",
   "execution_count": 2,
   "id": "9f81454c-24b2-4072-ab05-b25f9b120ae6",
   "metadata": {},
   "outputs": [
    {
     "data": {
      "application/vnd.code.notebook.stderr": [
       "/home/zysuper/workspace3/LLM-quickstart/.conda/lib/python3.10/site-packages/huggingface_hub/file_download.py:1132: FutureWarning: `resume_download` is deprecated and will be removed in version 1.0.0. Downloads always resume when possible. If you want to force a new download, use `force_download=True`.\n",
       "  warnings.warn(\n",
       "/home/zysuper/workspace3/LLM-quickstart/.conda/lib/python3.10/site-packages/huggingface_hub/file_download.py:1132: FutureWarning: `resume_download` is deprecated and will be removed in version 1.0.0. Downloads always resume when possible. If you want to force a new download, use `force_download=True`.\n",
       "  warnings.warn(\n",
       " ... (more hidden) ...\n"
      ]
     },
     "metadata": {},
     "output_type": "display_data"
    }
   ],
   "source": [
    "_compute_dtype_map = {\n",
    "    'fp32': torch.float32,\n",
    "    'fp16': torch.float16,\n",
    "    'bf16': torch.bfloat16\n",
    "}\n",
    "\n",
    "# QLoRA 量化配置\n",
    "q_config = BitsAndBytesConfig(load_in_4bit=True,\n",
    "                              bnb_4bit_quant_type='nf4',\n",
    "                              bnb_4bit_use_double_quant=True,\n",
    "                              bnb_4bit_compute_dtype=_compute_dtype_map['bf16'])\n",
    "\n",
    "# 加载量化后模型(与微调的 revision 保持一致）\n",
    "base_model = AutoModel.from_pretrained(model_name_or_path,\n",
    "                                      quantization_config=q_config,\n",
    "                                      device_map='auto',\n",
    "                                      trust_remote_code=True,\n",
    "                                      revision='b098244')"
   ]
  },
  {
   "cell_type": "code",
   "execution_count": 3,
   "id": "d488846f-41bb-4fe6-9f09-0f392f3b39e6",
   "metadata": {},
   "outputs": [
    {
     "data": {
      "text/plain": [
       "ChatGLMForConditionalGeneration(\n",
       "  (transformer): ChatGLMModel(\n",
       "    (embedding): Embedding(\n",
       "      (word_embeddings): Embedding(65024, 4096)\n",
       "    )\n",
       "    (rotary_pos_emb): RotaryEmbedding()\n",
       "    (encoder): GLMTransformer(\n",
       "      (layers): ModuleList(\n",
       "        (0-27): 28 x GLMBlock(\n",
       "          (input_layernorm): RMSNorm()\n",
       "          (self_attention): SelfAttention(\n",
       "            (query_key_value): Linear4bit(in_features=4096, out_features=4608, bias=True)\n",
       "            (core_attention): CoreAttention(\n",
       "              (attention_dropout): Dropout(p=0.0, inplace=False)\n",
       "            )\n",
       "            (dense): Linear4bit(in_features=4096, out_features=4096, bias=False)\n",
       "          )\n",
       "          (post_attention_layernorm): RMSNorm()\n",
       "          (mlp): MLP(\n",
       "            (dense_h_to_4h): Linear4bit(in_features=4096, out_features=27392, bias=False)\n",
       "            (dense_4h_to_h): Linear4bit(in_features=13696, out_features=4096, bias=False)\n",
       "          )\n",
       "        )\n",
       "      )\n",
       "      (final_layernorm): RMSNorm()\n",
       "    )\n",
       "    (output_layer): Linear(in_features=4096, out_features=65024, bias=False)\n",
       "  )\n",
       ")"
      ]
     },
     "execution_count": 3,
     "metadata": {},
     "output_type": "execute_result"
    }
   ],
   "source": [
    "base_model.requires_grad_(False)\n",
    "base_model.eval()"
   ]
  },
  {
   "cell_type": "code",
   "execution_count": 4,
   "id": "7e4270e2-c827-450e-bf27-7cb43a97f8f7",
   "metadata": {},
   "outputs": [],
   "source": [
    "tokenizer = AutoTokenizer.from_pretrained(model_name_or_path,\n",
    "                                          trust_remote_code=True,\n",
    "                                          revision='b098244')"
   ]
  },
  {
   "cell_type": "markdown",
   "id": "63408b60-876e-4eda-b501-90f842cca002",
   "metadata": {},
   "source": [
    "## 使用原始 ChatGLM3-6B 模型"
   ]
  },
  {
   "cell_type": "code",
   "execution_count": 5,
   "id": "6ef405cf-7d77-41a6-a07b-c6c768ee30cf",
   "metadata": {},
   "outputs": [],
   "source": [
    "input_text = \"解释下明夷卦是什么？\""
   ]
  },
  {
   "cell_type": "code",
   "execution_count": 6,
   "id": "566ed80e-828b-4105-b6e6-49de8905c991",
   "metadata": {},
   "outputs": [],
   "source": [
    "response, history = base_model.chat(tokenizer, query=input_text)"
   ]
  },
  {
   "cell_type": "code",
   "execution_count": 7,
   "id": "6cee217e-f276-4c2f-94e7-69afb6d541a6",
   "metadata": {},
   "outputs": [
    {
     "name": "stdout",
     "output_type": "stream",
     "text": [
      "明夷卦是《易经》中的第六卦，它的卦象是由两个阴爻夹一个阳爻构成，象征着太阳被云遮蔽的状态。这种状况在自然界中常常出现，比如太阳被云遮蔽，我们看不到太阳，但太阳依然存在。因此，明夷卦象征着你表面上看不到事物，但它们仍然存在。\n",
      "\n",
      "在《易经》中，明夷卦的卦辞描述了这样一个场景：当太阳被云遮蔽时，我们应当保持冷静，等待时机，因为太阳总会再次升起。这反映了人们在面对困难和挫折时，要有耐心，等待时机的到来，不要轻易放弃。\n",
      "\n",
      "此外，明夷卦还涉及到一种精神境界，即在困难和挫折面前保持冷静和理智，不受外界的干扰，保持内心的宁静。这种精神境界在《易经》中被称为“明夷”，意味着明亮而宁静。\n",
      "\n",
      "总的来说，明夷卦教导我们要在困难和挫折面前保持冷静和理智，耐心等待时机，同时要有一种积极向上的精神境界。\n"
     ]
    }
   ],
   "source": [
    "print(response)"
   ]
  },
  {
   "cell_type": "markdown",
   "id": "3db3245d-037d-4fe5-ac0d-cc5e82742399",
   "metadata": {},
   "source": [
    "#### 询问一个64卦相关问题（应该不在 ChatGLM3-6B 预训练数据中）"
   ]
  },
  {
   "cell_type": "code",
   "execution_count": 8,
   "id": "bbe1395f-39c2-4759-ae81-90ef3bcfae47",
   "metadata": {},
   "outputs": [
    {
     "name": "stdout",
     "output_type": "stream",
     "text": [
      "蹇卦是《易经》中的第四卦，它的卦象是由两个阳爻夹一个阴爻构成，象征着行走时困难和阻碍的象征。这种状况在人们的生活中常常出现，比如在事业、生活、人际关系等方面遇到困难和阻碍。\n",
      "\n",
      "在《易经》中，蹇卦的卦辞描述了这样一个场景：当人们行走时，可能会遇到困难和阻碍，但只要坚持不懈，努力前行，最终会克服困难，达到目的地。这反映了人们在面对困难和挫折时，要有坚定的信念和毅力，不断努力，不要轻易放弃。\n",
      "\n",
      "此外，蹇卦还涉及到一种精神境界，即在面对困难和挫折时，要有勇气和决心，坚持不懈，克服一切困难，达到自己的目标。这种精神境界在《易经》中被称为“蹇”，意味着艰难、不屈。\n",
      "\n",
      "总的来说，周易中的蹇卦教导我们要在面对困难和挫折时有坚定的信念和毅力，不断努力，坚持不懈，最终克服困难，实现自己的目标。\n"
     ]
    }
   ],
   "source": [
    "response, history = base_model.chat(tokenizer, query=\"周易中的蹇卦是什么？\", history=history)\n",
    "print(response)"
   ]
  },
  {
   "cell_type": "code",
   "execution_count": null,
   "id": "342b3659-d644-4232-8af1-f092e733bf40",
   "metadata": {},
   "outputs": [],
   "source": []
  },
  {
   "cell_type": "markdown",
   "id": "6d23e720-dee1-4b43-a298-0cbe1d8ad11d",
   "metadata": {},
   "source": [
    "## 使用微调后的 ChatGLM3-6B"
   ]
  },
  {
   "cell_type": "markdown",
   "id": "6bcfc5a2-41ed-405c-a31c-dca4fbb67425",
   "metadata": {},
   "source": [
    "### 加载 QLoRA Adapter(Epoch=3, automade-dataset(fixed)) - 请根据训练时间戳修改 timestamp "
   ]
  },
  {
   "cell_type": "code",
   "execution_count": 9,
   "id": "9c767c67-42aa-459c-a096-e226226c359b",
   "metadata": {},
   "outputs": [],
   "source": [
    "from peft import PeftModel, PeftConfig\n",
    "\n",
    "epochs = 3\n",
    "# timestamp = \"20240118_164514\"\n",
    "timestamp = \"20240731_173023\"\n",
    "\n",
    "peft_model_path = f\"models/{model_name_or_path}-epoch{epochs}-{timestamp}\"\n",
    "\n",
    "config = PeftConfig.from_pretrained(peft_model_path)\n",
    "qlora_model = PeftModel.from_pretrained(base_model, peft_model_path)\n",
    "training_tag=f\"ChatGLM3-6B(Epoch=3, automade-dataset(fixed))-{timestamp}\""
   ]
  },
  {
   "cell_type": "code",
   "execution_count": 10,
   "id": "24a5d22b-2c94-4dcf-8135-18d78f98755f",
   "metadata": {},
   "outputs": [],
   "source": [
    "def compare_chatglm_results(query, base_model, qlora_model, training_tag):\n",
    "    base_response, base_history = base_model.chat(tokenizer, query)\n",
    "\n",
    "    inputs = tokenizer(query, return_tensors=\"pt\").to(0)\n",
    "    ft_out = qlora_model.generate(**inputs, max_new_tokens=512)\n",
    "    ft_response = tokenizer.decode(ft_out[0], skip_special_tokens=True)\n",
    "    \n",
    "    print(f\"问题：{query}\\n\\n原始输出：\\n{base_response}\\n\\n\\n微调后（{training_tag}）：\\n{ft_response}\")\n",
    "    return base_response, ft_response"
   ]
  },
  {
   "cell_type": "markdown",
   "id": "062cd62e-69f9-4605-8c83-e468f71ef3d3",
   "metadata": {},
   "source": [
    "### 微调前后效果对比"
   ]
  },
  {
   "cell_type": "code",
   "execution_count": 11,
   "id": "7db16cd5-0bb5-44ab-b861-d9ca6a4970c2",
   "metadata": {},
   "outputs": [
    {
     "name": "stdout",
     "output_type": "stream",
     "text": [
      "问题：解释下明夷卦是什么？\n",
      "\n",
      "原始输出：\n",
      "明夷卦呈现的是坤上离下的卦象，属于坎宫的游魂卦。此卦象征光明受损，如同太阳沉入地底，寓意君子遭遇困厄，告诫人们在此时应暂停进取，静观其变，以待时机。\n",
      "\n",
      "《象辞》阐释了该卦的意象：光明隐入地下，指示君子在此情境下管理民众应当谦逊含蓄，外表看似不显山露水，内里却保持着清明与智慧，以此包容他人，亲近民众。\n",
      "\n",
      "《断易天机》指出，明夷卦意味着明德遭受伤害，反映了君子遭受困苦的境遇，建议万事暂且停止，需耐心等待转机。\n",
      "\n",
      "北宋邵雍进一步解释，明夷卦象征着光明被遮蔽，诸事受阻，强调应坚持正道，忍受时运不济，等待合适的时机。\n",
      "\n",
      "台湾学者傅佩荣则从更广阔的视角解释，强调在这样的时运下应当明哲保身，保护自己免受灾难，同时财运需暗中操作，家庭关系中可能面临分离，身体健康上需注意肝部问题，以防积郁。\n",
      "\n",
      "传统解卦观点认为，此卦为内外卦反差明显，外部环境黑暗而内部存有光明，寓意在不利环境中应低调行事，增强内在的坚韧，适时而动，以智取胜，同时提示应具有防范意识，保持逆境中的持续努力。\n",
      "\n",
      "总之，明夷卦揭示了在困境中自我保护与智慧生存的艺术，强调顺应时势，忍辱负重，蓄势待发，以及在逆境中坚守道德信念的重要性。\n",
      "\n",
      "\n",
      "微调后（ChatGLM3-6B(Epoch=3, automade-dataset(fixed))-20240731_173023）：\n",
      "[gMASK]sop 解释下明夷卦是什么？ 明夷卦呈现的是坤上离下的卦象，属于坎宫的游魂卦。此卦象征光明受损，如同太阳沉入地底，寓意君子遭遇困厄，告诫人们在此时应暂停进取，静观其变，以待时机。\n",
      "\n",
      "《象辞》阐释了该卦的意象：光明隐入地下，指示君子在此情境下管理民众应当谦逊含蓄，外表看似不显山露水，内里却保持着清明与智慧，以此包容他人，亲近民众。\n",
      "\n",
      "《断易天机》指出，明夷卦意味着明德遭受伤害，反映了君子遭受困苦的境遇，建议万事暂且停止，需耐心等待转机。\n",
      "\n",
      "北宋邵雍进一步解释，明夷卦象征着光明被遮蔽，诸事受阻，强调应坚持正道，忍受时运不济，等待合适的时机。\n",
      "\n",
      "台湾学者傅佩荣则从更广阔的视角解释，强调在这样的时运下应当明哲保身，保护自己免受灾难，同时财运需暗中操作，家庭关系中可能面临分离，身体健康上需注意肝部问题，以防积郁。\n",
      "\n",
      "传统解卦观点认为，此卦为内外卦反差明显，外部环境黑暗而内部存有光明，寓意在不利环境中应低调行事，增强内在的坚韧，适时而动，以智取胜，同时提示应具有防范意识，保持逆境中的持续努力。\n",
      "\n",
      "总之，明夷卦揭示了在困境中自我保护与智慧生存的艺术，强调顺应时势，忍辱负重，蓄势待发，以及在逆境中坚守道德信念的重要性。\n"
     ]
    }
   ],
   "source": [
    "base_response, ft_response = compare_chatglm_results(\"解释下明夷卦是什么？\", base_model, qlora_model, training_tag)"
   ]
  },
  {
   "cell_type": "code",
   "execution_count": 12,
   "id": "7aa074bd-c819-4533-a10f-f3184dc9549a",
   "metadata": {},
   "outputs": [
    {
     "name": "stdout",
     "output_type": "stream",
     "text": [
      "问题：周易中的蹇卦是什么\n",
      "\n",
      "原始输出：\n",
      "{'name': '蹇卦，其卦象呈现上坎（水）下艮（山）的异卦相叠，象征着前进道路中的重重阻碍，正如山高水深，跋涉艰难。此卦昭示应对策略与生活哲学，强调面对困境时的明智选择与道德修养的重要性。', 'content': \"\\n对于行动方向，卦辞提出'利西南，不利东北'，意味着向西南行进较为有利，反之东北则多有不利。同时，卦辞中提及'利见大人，贞吉'，意味着在困境中遇见或寻求有德行与权位之人的帮助，能带来吉祥与正道。\\n\\n《象辞》以山水之象解释蹇卦，启示君子面对逆境应反躬自省，提升自身的德行修为，以此克服外在的艰难。而在具体解读中，此卦鼓励人们在时运不济时保持坚毅与正直，无论是个人修养、事业发展、财富积累、家庭经营还是身心健康，均需谨慎行事，依靠内在的智慧与外在的合作共渡难关。\\n\\n《断易天机》及邵雍、傅佩荣等历代学者的解析，均强调在蹇卦状态下，个体需忍受艰难，审慎行动，不宜轻举妄动，应重视时机的选择与个人道德的提升，通过合作与忍耐，逐渐走出困境，实现转运。\\n\\n综上所述，蹇卦不仅是对当前困境的描述，更是一种生活智慧的传递，引导人们在逆境中自我提升，寻求内外和谐，最终转危为安，成就事业与人生。\"}\n",
      "\n",
      "\n",
      "微调后（ChatGLM3-6B(Epoch=3, automade-dataset(fixed))-20240731_173023）：\n",
      "[gMASK]sop 周易中的蹇卦是什么结构 蹇卦，其卦象呈现上坎（水）下艮（山）的异卦相叠，象征着前进道路中的重重阻碍，正如山高水深，跋涉艰难。此卦昭示应对策略与生活哲学，强调面对困境时的明智选择与道德修养的重要性。\n",
      "\n",
      "对于行动方向，卦辞提出'利西南，不利东北'，意味着向西南行进较为有利，反之东北则多有不利。同时，卦辞中提及'利见大人，贞吉'，意味着在困境中遇见或寻求有德行与权位之人的帮助，能带来吉祥与正道。\n",
      "\n",
      "《象辞》以山水之象解释蹇卦，启示君子面对逆境应反躬自省，提升自身的德行修为，以此克服外在的艰难。而在具体解读中，此卦鼓励人们在时运不济时保持坚毅与正直，无论是个人修养、事业发展、财富积累、家庭经营还是身心健康，均需谨慎行事，依靠内在的智慧与外在的合作共渡难关。\n",
      "\n",
      "《断易天机》及邵雍、傅佩荣等历代学者的解析，均强调在蹇卦状态下，个体需忍受艰难，审慎行动，不宜轻举妄动，应重视时机的选择与个人道德的提升，通过合作与忍耐，逐渐走出困境，实现转运。\n",
      "\n",
      "综上所述，蹇卦不仅是对当前困境的描述，更是一种生活智慧的传递，引导人们在逆境中自我提升，寻求内外和谐，最终转危为安，成就事业与人生。\n"
     ]
    }
   ],
   "source": [
    "base_response, ft_response = compare_chatglm_results(\"周易中的蹇卦是什么\", base_model, qlora_model, training_tag)"
   ]
  },
  {
   "cell_type": "code",
   "execution_count": 13,
   "id": "d5a31554-40f1-4e6e-8240-f207c4a61b42",
   "metadata": {},
   "outputs": [
    {
     "name": "stdout",
     "output_type": "stream",
     "text": [
      "问题：师卦是什么？\n",
      "\n",
      "原始输出：\n",
      "师卦，作为周易六十四卦之一，蕴含着深远的哲理，其卦象由震（雷）下坎（水）上组成，象征着事物间的互动与影响。此卦教导人们在面对变化时，应具备正确的态度与行为方式，既不能独断专行，也不能随波逐流，而是要坚守道义，根据实际情况做出明智的选择与行动。\n",
      "\n",
      "《象辞》中描述了师卦的象辞，强调天雷通宵达旦，不断努力，才能取得成功。北宋易学家邵雍则强调，富有者更应借助时机，持续积累财富，避免短视行为。\n",
      "\n",
      "从传统解卦的角度看，师卦强调的是 leading by example 以及 the art of mentoring, suggesting that true success is achieved through self-discipline, persistent effort, and a commitment to ethical principles. The卦面告诫人们，即使处于不利局面，亦应保持冷静，协同合作，灵活应对各种变化，无论是事业发展、商业经营还是个人修养。\n",
      "\n",
      "整体而言，师卦提醒人们，成功并非一蹴而就，而是通过持续努力、跟随正确的做法、合作与自我 discipline的结合，才能在事物互动中实现目标。这一深刻的道理，不仅对个人成长、事业进展、团体协作乃至人生决策都具有指导意义，也揭示了成功背后的深层哲学原理，即在变化与互动中持续成长与进步。\n",
      "\n",
      "\n",
      "微调后（ChatGLM3-6B(Epoch=3, automade-dataset(fixed))-20240731_173023）：\n",
      "[gMASK]sop 师卦是什么？ 师卦，作为周易六十四卦之一，展现了一幅军队出行、作战的景象，其卦象由震（雷）下坎（水）上组成，象征着军事力量与自然智慧的融合。此卦强调在军事行动中应 following the wisdom of the military, 即 智胜于强，策略决定胜负，不仅胜利于强大，而且智慧能战胜一切。\n",
      "\n",
      "《象辞》解释，师卦象征着君子通过学习和智谋，在行事上遵循道德准则，强大于众，实现和谐。卦象启示我们，运用智慧和策略能确保军事行动的胜利，同时提醒我们在其他方面也需注意和谐与智慧的应用，以取得成功。\n",
      "\n",
      "在具体的解读中，师卦提醒人们胜于强的智能胜过一切，强调在各种行动中，智慧和策略的重要性。此卦不仅适用于军事斗争，也适用于其他各个领域，强调在竞争中，聪明才智的应用能带来胜利，并提醒要谨慎使用，以免过度。\n",
      "\n",
      "综上，师卦提供了一种在竞争中利用智慧和策略的哲学，强调在各种胜利的道路上，智胜于强是实现目标的关键。\n"
     ]
    }
   ],
   "source": [
    "base_response, ft_response = compare_chatglm_results(\"师卦是什么？\", base_model, qlora_model, training_tag)"
   ]
  }
 ],
 "metadata": {
  "kernelspec": {
   "display_name": "Python 3 (ipykernel)",
   "language": "python",
   "name": "python3"
  },
  "language_info": {
   "codemirror_mode": {
    "name": "ipython",
    "version": 3
   },
   "file_extension": ".py",
   "mimetype": "text/x-python",
   "name": "python",
   "nbconvert_exporter": "python",
   "pygments_lexer": "ipython3",
   "version": "3.10.14"
  }
 },
 "nbformat": 4,
 "nbformat_minor": 5
}
