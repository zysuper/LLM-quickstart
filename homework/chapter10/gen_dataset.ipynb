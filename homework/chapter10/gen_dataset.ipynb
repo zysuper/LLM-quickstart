{
 "cells": [
  {
   "cell_type": "markdown",
   "id": "38dde73f-01ab-42e1-9e6e-4ba5f18e0623",
   "metadata": {},
   "source": [
    "# 构造微调训练数据集\n",
    "\n",
    "借助 ChatGPT 和 GPT API 我们可以实现自动化批量构造训练数据集。\n",
    "\n",
    "下面我们以中国古典哲学数据集为例，展示了自动构造训练集的主要流程：\n",
    "\n",
    "- 使用 LangChain 构造训练数据样例\n",
    "    - 基于 ChatGPT 设计 `System Role` 提示词\n",
    "    - 使用 `OpenAI GPT-3.5-Turbo-1106` 生成基础数据\n",
    "    - 解析 OpenAI GPT 生成的训练数据\n",
    "    - 持久化存储`dataset.csv`训练数据集文件\n",
    "    - 使用 ChatGPT 实现训练数据多样化\n",
    "- 自动化批量生成训练数据集\n",
    "    - 整理收集原始数据`raw_data.txt`\n",
    "    - 自动解析原始数据样例 `raw_data_content[]`\n",
    "    - 设计 `gen_data` 训练数据生成器函数\n",
    "    - 设计训练数据生成流水线\n",
    "\n",
    "最佳实践参考：\n",
    "\n",
    "- 使用 GPT-3.5 生成基础数据：https://platform.openai.com/playground/p/2c7XNPgo6Y2iDxILiWfD3iPu?model=gpt-3.5-turbo-1106&mode=chat\n",
    "- 使用 ChatGPT 生成数据处理代码和相关文本整理：https://chat.openai.com/share/cdfd2d1d-a75e-4cee-be49-539c010ca1b1\n",
    "- GPT API 价格: https://openai.com/pricing"
   ]
  },
  {
   "cell_type": "markdown",
   "id": "18380fa5-6b34-44eb-ba8c-f4fc7ff41e9c",
   "metadata": {
    "jp-MarkdownHeadingCollapsed": true
   },
   "source": [
    "## 使用 OpenAI \bSDk 构造训练数据"
   ]
  },
  {
   "cell_type": "code",
   "execution_count": 4,
   "id": "f31ef786",
   "metadata": {},
   "outputs": [],
   "source": [
    "import os\n",
    "\n",
    "model = \"qwen-max\"\n",
    "base_url = \"https://dashscope.aliyuncs.com/compatible-mode/v1\"\n",
    "api_key = os.environ[\"DASHSCOPE_API_KEY\"]\n",
    "max_tokens = 2000\n",
    "top_p = 0.9"
   ]
  },
  {
   "cell_type": "code",
   "execution_count": 5,
   "id": "f84be8c1-128b-4763-aae6-b143de572796",
   "metadata": {},
   "outputs": [],
   "source": [
    "from openai import OpenAI\n",
    "client = OpenAI(\n",
    "    base_url=base_url, \n",
    "    api_key=api_key)"
   ]
  },
  {
   "cell_type": "code",
   "execution_count": 6,
   "id": "d0c8f9e7-ef2c-400d-b194-a31806f0fa91",
   "metadata": {},
   "outputs": [],
   "source": [
    "response = client.chat.completions.create(\n",
    "  model=model,\n",
    "  messages=[\n",
    "    {\n",
    "      \"role\": \"system\",\n",
    "      \"content\": \"你是中国古典哲学大师，尤其擅长周易的哲学解读。\\n\\n接下来，你收到的都是关于周易卦象的解释，你需要整理润色，并生成用于大模型训练的内容和格式。\\n\\n示例输入：\\n\\n师卦，此卦是异卦相叠，下卦为坎，上卦为坤。“师”指军队。坎为水、为险；坤为地、为顺，喻寓兵于农。兵凶战危，用兵乃圣人不得已而为之，但它可以顺利无阻碍地解决矛盾，因为顺乎形势，师出有名，故能化凶为吉。占得此卦，对于军事上率师出征非常有利，必无灾祸。师卦是天马出群之卦，以寡伏众之象。\\n师卦位于讼卦之后，《序卦》之中这样解释道：“讼必有众起，故受之以师。师者，众也。”争讼的人越来越多，以致形成了军队。\\n\\n期待结果：\\n\\ncontent:\\\"师卦\\\"\\nsummary:\\\"在周易中，师卦是一个极具深意的卦象，它由两个异卦相叠组成：下卦坎（水）和上卦坤（地）。这一卦象代表“师”，即军队，寓意着兵力和农力的结合。在这里，坎卦象征着水和险难，而坤卦象征着地和顺从，暗示着通过将军事力量安置于民间，可以在必要时顺利调动。\\n\\n师卦的核心哲学是：虽然兵力代表着危险和战争，但其使用应当是圣人不得已而为之的最后手段。在正确的情况下，军事力量可以顺应形势，将危险转化为吉祥。因此，在军事策略上，此卦象征着出征将会顺利，无灾祸。\\n\\n师卦紧随讼卦（争讼卦），在《序卦》中解释为“讼必有众起，故受之以师”。这意味着争端激化至众多人群的参与，形成了类似军队的集体力量。\\\"\"\n",
    "    },\n",
    "    {\n",
    "      \"role\": \"user\",\n",
    "      \"content\": \"蒙卦是教育启蒙的智慧，艮为山，坎为泉，山下出泉。泉水始流出山，则必将渐汇成江河,正如蒙稚渐启，又山下有险，因为有险停止不前，所以蒙昧不明。事物发展的初期阶段，必然蒙昧，所以教育是当务之急，养学生纯正无邪的品质，是治蒙之道。\\n蒙卦，这个卦是异卦相叠，下卦为坎，上卦为艮。艮是山的形象，喻止；坎是水的形象，喻险。卦形为山下有险，仍不停止前进，是为蒙昧，故称蒙卦。但因把握时机，行动切合时宜;因此，具有启蒙和通达的卦象。\\n《蒙》卦是《屯》卦这个始生卦之后的第二卦。《序卦》中说：“物生必蒙，故受之以蒙。蒙者，蒙也，特之稚也。”物之幼稚阶段，有如蒙昧未开的状态，在人则是指童蒙。\\n《象》中这样解释蒙卦：山下出泉，蒙；君子以果行育德。\"\n",
    "    },\n",
    "    {\n",
    "      \"role\": \"assistant\",\n",
    "      \"content\": \"content:\\\"蒙卦\\\"\\nsummary:\\\"在周易中，蒙卦象征着教育启蒙和智慧的初期阶段，由两个异卦相叠组成：下卦坎（水）和上卦艮（山）。坎象征水，艮象征山，代表了山下有水源，水流出山。这预示着在事物发展的起初阶段，人们会陷入蒙昧状态，因此教育成为当务之急。只有培养纯正无邪的品质，才能走上通达之路，如同泉水汇成江河。\\n\\n蒙卦的核心哲学是：事物发展的初期阶段必然处于蒙昧状态，但如果能把握时机，行动切合时宜，就能启蒙通达。蒙卦紧随始生卦《屯》之后，《序卦》中解释道：“物生必蒙，故受之以蒙。蒙者，蒙也，特之稚也。”这说明物在幼稚阶段都会经历蒙昧状态，找它蒙即是稚嫩。\\n\\n《象》中解释说：山下出泉，蒙；君子以果行育德，意味着像泉水从山下流出一样，启蒙教育有助于培育美德。\\\"\"\n",
    "    },\n",
    "    {\n",
    "      \"role\": \"user\",\n",
    "      \"content\": \"需卦，本卦是异卦相叠，上卦为坎，下卦为乾。乾卦象征天空辽阔，坎卦象征乌云密布。雨水之于传统农业社会而言，是最大的需求，因此用这个意象来表现。古人引申为雨将下，万物皆待，所以叫需。\\n需，古体字结构是“雨上天下”，从雨而声。如苍天下雨，滋养万物及人。从人的角度看，天下雨，则不易出行耕作，因此在家喝酒吃肉、静待天时。所以，这一卦的基本象征就是等待、不进，还有饮食之义。\\n \\n需卦位于蒙卦之后，《序卦》之中这样解释道：“物稚不可不养也，故受之以需。需者，饮食之道也。”有所需要，也是有所等待。\\n《象》曰：云上于天，需;君子以饮食宴乐。\\n《象》中这段话的意思是说：需卦的卦象是乾(天)下坎(水)上，为水在天上之表象。水汽聚集天上成为云层，密云満天，但还没有下雨，需要等待;君子在这个时候需要吃喝，饮酒作乐，即在等待的时候积蓄力量。\\n需卦象征等待，启示人们守正待机的道理，属于中上卦。《象》这样评断此卦：明珠土埋日久深，无光无亮到如今，忽然大风吹土去，自然显露有重新。\\n\"\n",
    "    },\n",
    "    {\n",
    "      \"role\": \"assistant\",\n",
    "      \"content\": \"content:\\\"需卦\\\"\\nsummary:\\\"在周易中，需卦是一个富有深意的卦象，由两个异卦相叠组成：下卦乾（天）和上卦坎（水）。乾象征广阔的天空，而坎象征乌云密布，暗示着迫切需要雨水的意象。古人将雨水视为万物生长的必需，因此命名为“需”。需卦的基本象征是等待和饮食之道。\\n\\n需卦位于蒙卦之后，《序卦》中解释为“物稚不可不养也，故受之以需。需者，饮食之道也。”说明物在幼稚状态需要得到滋养，因此受到需卦的启示。《象》中描述：云上于天，需；君子以饮食宴乐。意味着天空乌云密布，需要等待雨水，而君子则在等待的过程中积蓄力量，享受饮食和欢乐。\\n\\n需卦的核心哲学是：等待，启示着守正待机的道理。它属于中上卦，象征着埋藏已久的明珠，经过大风吹去尘埃后，重新显露光芒。\\\"\"\n",
    "    }\n",
    "  ],\n",
    "  temperature=1,\n",
    "  max_tokens=max_tokens,\n",
    "  top_p=top_p,\n",
    "  frequency_penalty=0,\n",
    "  presence_penalty=0\n",
    ")"
   ]
  },
  {
   "cell_type": "code",
   "execution_count": 7,
   "id": "ba5c96f1",
   "metadata": {},
   "outputs": [
    {
     "name": "stdout",
     "output_type": "stream",
     "text": [
      "content:\"需卦\"\n",
      "summary:\"《周易》中的需卦展示了天地间等待与适时行动的智慧，此卦由上下异卦组合而成，上卦为坎（象征乌云与困难），下卦为乾（代表天空和刚健）。坎卦的水与乾卦的天形成对比，寓意农业社会对雨水的期盼，象征需求与满足之间的张力。需，字面含意“雨上天下”，反映雨水滋养万物，也隐含人遇阻时应静心等待的哲理。\n",
      "\n",
      "在生活实践中，需卦接续于启蒙的蒙卦之后，按照《序卦》的解释：“物稚不可不养也，故受之以需。需者，饮食之道也。”这指出幼小生命成长过程中所需养分的供给，以及在此阶段学会耐心等待的必要性，强调适时的滋养与自我蓄积。\n",
      "\n",
      "《象传》的阐述深化了需卦的意境：“云上于天，需；君子以饮食宴乐。”揭示了需卦象外之意，即当乌云密布却还未降雨之际，君子应借此机缘修养生息，以饮食与娱乐滋养身心，等待最佳时机。此象蕴含的哲理在于：面对困境或需求，应具备预见与耐心，相信时间能带来转机，正如长期埋没的明珠终将因风扫阴霾而重焕光芒，此乃需卦赋予人们的启示。\"\n"
     ]
    }
   ],
   "source": [
    "print(response.choices[0].message.content)"
   ]
  },
  {
   "cell_type": "markdown",
   "id": "5cad327e-e725-4258-a0d4-5937929074ca",
   "metadata": {},
   "source": [
    "## 使用 LangChain 构造训练数据"
   ]
  },
  {
   "cell_type": "code",
   "execution_count": 8,
   "id": "f3224fa1-16bb-4526-9f3d-1d731376f1f3",
   "metadata": {
    "collapsed": true,
    "jupyter": {
     "outputs_hidden": true
    }
   },
   "outputs": [
    {
     "name": "stderr",
     "output_type": "stream",
     "text": [
      "/mnt/ws/LLM-quickstart/.conda/lib/python3.10/site-packages/langchain_core/_api/deprecation.py:139: LangChainDeprecationWarning: The class `ChatOpenAI` was deprecated in LangChain 0.0.10 and will be removed in 0.3.0. An updated version of the class exists in the langchain-openai package and should be used instead. To use it run `pip install -U langchain-openai` and import as `from langchain_openai import ChatOpenAI`.\n",
      "  warn_deprecated(\n",
      "WARNING! top_p is not default parameter.\n",
      "                    top_p was transferred to model_kwargs.\n",
      "                    Please confirm that top_p is what you intended.\n",
      "WARNING! frequency_penalty is not default parameter.\n",
      "                    frequency_penalty was transferred to model_kwargs.\n",
      "                    Please confirm that frequency_penalty is what you intended.\n",
      "WARNING! presence_penalty is not default parameter.\n",
      "                    presence_penalty was transferred to model_kwargs.\n",
      "                    Please confirm that presence_penalty is what you intended.\n"
     ]
    }
   ],
   "source": [
    "from langchain.chat_models import ChatOpenAI\n",
    "from langchain.schema import HumanMessage, SystemMessage\n",
    "from langchain.prompts.chat import (\n",
    "    ChatPromptTemplate,\n",
    "    HumanMessagePromptTemplate,\n",
    "    SystemMessagePromptTemplate,\n",
    ")\n",
    "\n",
    "chat = ChatOpenAI(model=model,\n",
    "                  base_url=base_url,\n",
    "                  api_key=api_key,\n",
    "                  temperature=1,\n",
    "                  max_tokens=max_tokens,\n",
    "                  top_p=top_p,\n",
    "                  frequency_penalty=0,\n",
    "                  presence_penalty=0)"
   ]
  },
  {
   "cell_type": "code",
   "execution_count": 9,
   "id": "43a07901-59b3-4290-97dc-8dfd948f8f14",
   "metadata": {},
   "outputs": [],
   "source": [
    "system_content = \"\"\"\n",
    "你是中国古典哲学大师，尤其擅长周易的哲学解读。\n",
    "\n",
    "接下来，你收到的都是关于周易卦象的解释，你需要整理润色，并生成用于大模型训练的内容和格式。\n",
    "\n",
    "示例输入：\n",
    "\n",
    "师卦，此卦是异卦相叠，下卦为坎，上卦为坤。“师”指军队。坎为水、为险；坤为地、为顺，喻寓兵于农。兵凶战危，用兵乃圣人不得已而为之，但它可以顺利无阻碍地解决矛盾，因为顺乎形势，师出有名，故能化凶为吉。占得此卦，对于军事上率师出征非常有利，必无灾祸。师卦是天马出群之卦，以寡伏众之象。\n",
    "师卦位于讼卦之后，《序卦》之中这样解释道：“讼必有众起，故受之以师。师者，众也。”争讼的人越来越多，以致形成了军队。\n",
    "\n",
    "期待结果：\n",
    "\n",
    "content:\"师卦\"\n",
    "summary:\"在周易中，师卦是一个极具深意的卦象，它由两个异卦相叠组成：下卦坎（水）和上卦坤（地）。这一卦象代表“师”，即军队，寓意着兵力和农力的结合。在这里，坎卦象征着水和险难，而坤卦象征着地和顺从，暗示着通过将军事力量安置于民间，可以在必要时顺利调动。\n",
    "\n",
    "师卦的核心哲学是：虽然兵力代表着危险和战争，但其使用应当是圣人不得已而为之的最后手段。在正确的情况下，军事力量可以顺应形势，将危险转化为吉祥。因此，在军事策略上，此卦象征着出征将会顺利，无灾祸。\n",
    "\n",
    "师卦紧随讼卦（争讼卦），在《序卦》中解释为“讼必有众起，故受之以师”。这意味着争端激化至众多人群的参与，形成了类似军队的集体力量。\"\n",
    "\"\"\"\n"
   ]
  },
  {
   "cell_type": "code",
   "execution_count": 10,
   "id": "4678fd0d-147a-4bca-ab12-1cd4c15a700b",
   "metadata": {},
   "outputs": [],
   "source": [
    "# 原始数据\n",
    "raw_content = \"蒙卦是教育启蒙的智慧，艮为山，坎为泉，山下出泉。泉水始流出山，则必将渐汇成江河,正如蒙稚渐启，又山下有险，因为有险停止不前，所以蒙昧不明。事物发展的初期阶段，必然蒙昧，所以教育是当务之急，养学生纯正无邪的品质，是治蒙之道。\\n蒙卦，这个卦是异卦相叠，下卦为坎，上卦为艮。艮是山的形象，喻止；坎是水的形象，喻险。卦形为山下有险，仍不停止前进，是为蒙昧，故称蒙卦。但因把握时机，行动切合时宜;因此，具有启蒙和通达的卦象。\\n《蒙》卦是《屯》卦这个始生卦之后的第二卦。《序卦》中说：“物生必蒙，故受之以蒙。蒙者，蒙也，特之稚也。”物之幼稚阶段，有如蒙昧未开的状态，在人则是指童蒙。\\n《象》中这样解释蒙卦：山下出泉，蒙；君子以果行育德。\""
   ]
  },
  {
   "cell_type": "code",
   "execution_count": 11,
   "id": "dd57faee-81cf-4fd9-ad90-cc1583cfa32a",
   "metadata": {},
   "outputs": [],
   "source": [
    "messages = [\n",
    "    SystemMessage(\n",
    "        content=system_content\n",
    "    ),\n",
    "    HumanMessage(\n",
    "        content=raw_content\n",
    "    ),\n",
    "]"
   ]
  },
  {
   "cell_type": "code",
   "execution_count": 12,
   "id": "19eec711-faa3-463a-8e5f-a100696491eb",
   "metadata": {},
   "outputs": [
    {
     "name": "stderr",
     "output_type": "stream",
     "text": [
      "/mnt/ws/LLM-quickstart/.conda/lib/python3.10/site-packages/langchain_core/_api/deprecation.py:139: LangChainDeprecationWarning: The method `BaseChatModel.__call__` was deprecated in langchain-core 0.1.7 and will be removed in 0.3.0. Use invoke instead.\n",
      "  warn_deprecated(\n"
     ]
    }
   ],
   "source": [
    "ai_message = chat(messages)"
   ]
  },
  {
   "cell_type": "markdown",
   "id": "15df67cd-3dab-4c54-a4f2-0b14c0c52953",
   "metadata": {},
   "source": [
    "### 解析 OpenAI GPT 生成的训练数据"
   ]
  },
  {
   "cell_type": "code",
   "execution_count": 13,
   "id": "ea3d3181-fd27-4d4f-a305-98c295b4317b",
   "metadata": {},
   "outputs": [
    {
     "data": {
      "text/plain": [
       "'content:\"蒙卦\"\\nsummary:\"蒙卦在周易中象征着教育与启蒙的智慧，通过独特的异卦相叠构造，展示了下卦坎（象征水、险）与上卦艮（象征山、止）之间的深刻寓意。山下涌现清泉，既体现了知识如同涌动的泉水，逐渐汇聚成智慧的江河，也映射出启蒙过程中的障碍与挑战，象征着蒙昧初启，前行路上必经的困难与险阻。\\n\\n此卦强调，在个体或事物发展的初级阶段，无知与困惑在所难免，因而及时的教育引导至关重要。教育的目标不仅在于传授知识，更在于培养受教者纯洁正直的品德，这是克服蒙昧，实现个人成长与发展的关键路径。\\n\\n蒙卦紧接在代表万物初始的屯卦之后，按照《序卦》的逻辑，“物生必蒙”，说明所有新生事物初始状态都如孩童般纯真且充满未知。因此，蒙卦不仅是对无知状态的描绘，也是对通过教育引领个体通向明智的启示。\\n\\n《象传》中对蒙卦的阐述富含哲理：山下的清泉缓缓流出，象征着启蒙的过程，鼓励君子以坚定的行为（果行）来培育高尚的德行（育德），强调了实践与道德修养在开启智慧之旅中的核心作用。\"'"
      ]
     },
     "execution_count": 13,
     "metadata": {},
     "output_type": "execute_result"
    }
   ],
   "source": [
    "ai_message.content"
   ]
  },
  {
   "cell_type": "code",
   "execution_count": 14,
   "id": "2564444f-e237-425b-adc4-429115bb86dd",
   "metadata": {},
   "outputs": [
    {
     "name": "stdout",
     "output_type": "stream",
     "text": [
      "Content: 蒙卦\n",
      "Summary: 蒙卦在周易中象征着教育与启蒙的智慧，通过独特的异卦相叠构造，展示了下卦坎（象征水、险）与上卦艮（象征山、止）之间的深刻寓意。山下涌现清泉，既体现了知识如同涌动的泉水，逐渐汇聚成智慧的江河，也映射出启蒙过程中的障碍与挑战，象征着蒙昧初启，前行路上必经的困难与险阻。\n",
      "\n",
      "此卦强调，在个体或事物发展的初级阶段，无知与困惑在所难免，因而及时的教育引导至关重要。教育的目标不仅在于传授知识，更在于培养受教者纯洁正直的品德，这是克服蒙昧，实现个人成长与发展的关键路径。\n",
      "\n",
      "蒙卦紧接在代表万物初始的屯卦之后，按照《序卦》的逻辑，“物生必蒙”，说明所有新生事物初始状态都如孩童般纯真且充满未知。因此，蒙卦不仅是对无知状态的描绘，也是对通过教育引领个体通向明智的启示。\n",
      "\n",
      "《象传》中对蒙卦的阐述富含哲理：山下的清泉缓缓流出，象征着启蒙的过程，鼓励君子以坚定的行为（果行）来培育高尚的德行（育德），强调了实践与道德修养在开启智慧之旅中的核心作用。\n"
     ]
    }
   ],
   "source": [
    "text = ai_message.content\n",
    "\n",
    "# 分割字符串来找到content和summary的位置\n",
    "content_start = text.find('content:\"') + len('content:\"')\n",
    "content_end = text.find('\"\\nsummary:')\n",
    "summary_start = text.find('summary:\"') + len('summary:\"')\n",
    "summary_end = text.rfind('\"')\n",
    "\n",
    "# 提取并存储content和summary\n",
    "content = text[content_start:content_end].strip()\n",
    "summary = text[summary_start:summary_end].strip()\n",
    "\n",
    "print(\"Content:\", content)\n",
    "print(\"Summary:\", summary)\n"
   ]
  },
  {
   "cell_type": "markdown",
   "id": "ba36506e-2871-4ad9-b928-ec9338969ce9",
   "metadata": {},
   "source": [
    "### 持久化存储训练数据集文件"
   ]
  },
  {
   "cell_type": "code",
   "execution_count": 15,
   "id": "d9fa000b-c4d4-41d2-94cf-7564e8dad87f",
   "metadata": {},
   "outputs": [],
   "source": [
    "import csv\n",
    "\n",
    "# 如果没有GPT API，可以使用预定义的变量\n",
    "# content = \"蒙卦\"\n",
    "# summary = \"在周易中，师卦是一个极具深意的卦象，它由两个异卦相叠组成：下卦坎（水）和上卦坤（地）。这一卦象代表“师”，即军队，寓意着兵力和农力的结合。在这里，坎卦象征着水和险难，而坤卦象征着地和顺从，暗示着通过将军事力量安置于民间，可以在必要时顺利调动。师卦的核心哲学是：虽然兵力代表着危险和战争，但其使用应当是圣人不得已而为之的最后手段。在正确的情况下，军事力量可以顺应形势，将危险转化为吉祥。因此，在军事策略上，此卦象征着出征将会顺利，无灾祸。师卦紧随讼卦（争讼卦），在《序卦》中解释为“讼必有众起，故受之以师”。这意味着争端激化至众多人群的参与，形成了类似军队的集体力量。\"\n",
    "\n",
    "# 新建CSV文件并写入数据\n",
    "with open('test_dataset.csv', mode='w', newline='', encoding='utf-8') as file:\n",
    "    writer = csv.writer(file)\n",
    "    # 写入标题行\n",
    "    writer.writerow(['content', 'summary'])\n",
    "    # 写入数据行\n",
    "    writer.writerow([content, summary])\n"
   ]
  },
  {
   "cell_type": "markdown",
   "id": "df4aed7d-f597-46c5-a25e-960fd731bb3c",
   "metadata": {},
   "source": [
    "### 数据增强：构造多样化的提问方式"
   ]
  },
  {
   "cell_type": "code",
   "execution_count": 16,
   "id": "6b335c84-e0ee-49a3-bca9-d45d1701bde4",
   "metadata": {},
   "outputs": [],
   "source": [
    "\n",
    "def generate_question_summary_pairs(content, summary):\n",
    "    \"\"\"\n",
    "    生成20对提问和总结的配对。\n",
    "\n",
    "    :param content: 内容（例如：“蒙卦”）。\n",
    "    :param summary: 内容的总结。\n",
    "    :return: 包含20对提问和总结的列表。\n",
    "    \"\"\"\n",
    "    # 20种提问模板\n",
    "    question_templates = [\n",
    "        \"{}代表什么？\",\n",
    "        \"周易中的{}含义是什么？\",\n",
    "        \"请解释一下{}。\",\n",
    "        \"{}在周易中是什么象征？\",\n",
    "        \"周易{}的深层含义是什么？\",\n",
    "        \"{}和教育启蒙有什么联系？\",\n",
    "        \"周易的{}讲述了什么？\",\n",
    "        \"{}是怎样的一个卦象？\",\n",
    "        \"{}在周易中怎样表达教育的概念？\",\n",
    "        \"{}的基本意义是什么？\",\n",
    "        \"周易中{}的解释是什么？\",\n",
    "        \"{}在周易中代表了哪些方面？\",\n",
    "        \"{}涉及哪些哲学思想？\",\n",
    "        \"周易中{}的象征意义是什么？\",\n",
    "        \"{}的主要讲述内容是什么？\",\n",
    "        \"周易{}的核心思想是什么？\",\n",
    "        \"在周易中，{}象征着什么？\",\n",
    "        \"请描述{}的含义。\",\n",
    "        \"{}的上下卦各自代表什么自然现象？\",\n",
    "        \"{}在周易哲学中扮演什么角色？\"\n",
    "    ]\n",
    "    \n",
    "    print(\"content:\", content)\n",
    "\n",
    "    # 使用content填充提问模板\n",
    "    questions = [template.format(content) for template in question_templates]\n",
    "\n",
    "    # 创建提问和总结的配对\n",
    "    question_summary_pairs = [(question, summary) for question in questions]\n",
    "\n",
    "    return question_summary_pairs"
   ]
  },
  {
   "cell_type": "code",
   "execution_count": 17,
   "id": "05349693-61a9-4557-ba9a-c0f4ff24a1ac",
   "metadata": {},
   "outputs": [
    {
     "name": "stdout",
     "output_type": "stream",
     "text": [
      "content: 蒙卦\n"
     ]
    }
   ],
   "source": [
    "import csv\n",
    "\n",
    "# 如果没有GPT API，可以使用预定义的变量\n",
    "# content = \"蒙卦\"\n",
    "# summary = \"在周易中，师卦是一个极具深意的卦象，它由两个异卦相叠组成：下卦坎（水）和上卦坤（地）。这一卦象代表“师”，即军队，寓意着兵力和农力的结合。在这里，坎卦象征着水和险难，而坤卦象征着地和顺从，暗示着通过将军事力量安置于民间，可以在必要时顺利调动。师卦的核心哲学是：虽然兵力代表着危险和战争，但其使用应当是圣人不得已而为之的最后手段。在正确的情况下，军事力量可以顺应形势，将危险转化为吉祥。因此，在军事策略上，此卦象征着出征将会顺利，无灾祸。师卦紧随讼卦（争讼卦），在《序卦》中解释为“讼必有众起，故受之以师”。这意味着争端激化至众多人群的参与，形成了类似军队的集体力量。\"\n",
    "pairs = generate_question_summary_pairs(content, summary)\n",
    "\n",
    "# 将结果写入CSV文件\n",
    "with open('test_dataset.csv', mode='w', newline='', encoding='utf-8') as file:\n",
    "    writer = csv.writer(file)\n",
    "    writer.writerow(['content', 'summary'])\n",
    "    for pair in pairs:\n",
    "        writer.writerow(pair)\n"
   ]
  },
  {
   "cell_type": "code",
   "execution_count": null,
   "id": "4d7bfe5b",
   "metadata": {},
   "outputs": [],
   "source": []
  },
  {
   "cell_type": "markdown",
   "id": "3825a610-a117-4f76-ad6f-35a491aeec24",
   "metadata": {},
   "source": [
    "## 自动化批量生成训练数据流水线\n",
    "\n",
    "原始数据来源：https://www.zhouyi.cc/zhouyi/yijing64/4103.html"
   ]
  },
  {
   "cell_type": "code",
   "execution_count": 18,
   "id": "fd387396-25b6-48ef-b510-bb3906ba52d4",
   "metadata": {},
   "outputs": [],
   "source": [
    "# 初始化一个空列表用于存储原始内容数据\n",
    "raw_content_data = []\n",
    "\n",
    "# 读取文件并分割数据样例\n",
    "with open('data/raw_data.txt', 'r', encoding='utf-8') as file:\n",
    "    content = file.read()\n",
    "    # 使用连续的换行符('\\n\\n')作为分隔符来分割文本\n",
    "    data_samples = content.split('\\n\\n')\n",
    "\n",
    "    # 遍历分割后的数据样例并添加到列表中\n",
    "    for sample in data_samples:\n",
    "        # 移除每个样例中的额外空白字符（如果有的话）\n",
    "        cleaned_sample = sample.strip()\n",
    "        # 仅添加非空样例\n",
    "        if cleaned_sample:\n",
    "            raw_content_data.append(cleaned_sample)"
   ]
  },
  {
   "cell_type": "code",
   "execution_count": 19,
   "id": "ed7f642e-d5de-4d19-8c16-07240daf70df",
   "metadata": {
    "collapsed": true,
    "jupyter": {
     "outputs_hidden": true
    }
   },
   "outputs": [
    {
     "name": "stdout",
     "output_type": "stream",
     "text": [
      "样例 1:\n",
      "蒙卦原文\n",
      "蒙。亨。匪我求童蒙，童蒙求我。初筮告，再三渎，渎则不告。利贞。\n",
      "象曰：山下出泉，蒙。君子以果行育德。\n",
      "白话文解释\n",
      "蒙卦：通泰。不是我有求于幼稚愚昧的人，而是幼稚愚昧的人有求于我。第一次占筮，神灵告诉了他。轻慢不敬的再三占筮，轻慢不敬的占筮，神灵就不会告诉他。但还是吉利的卜问。\n",
      "《象辞》说：上卦为艮，象征山；下卦为坎，象征泉。山下有泉，泉水喷涌而出，这是蒙卦的卦象。君子观此卦象，取法于一往无前的山泉，从而以果敢坚毅的行动来培养自身的品德。\n",
      "《断易天机》解\n",
      "蒙卦艮上坎下，为离宫四世卦。蒙即蒙昧，主回还往复，疑惑不前，多忧愁过失，乃是凶卦。\n",
      "北宋易学家邵雍解\n",
      "智慧未开，蒙昧闭塞；犹豫不决，缺乏果断。\n",
      "得此卦者，智慧犹如童蒙，不辨是非，迷失方向；若能顺贤师良友之教，启其聪明则亨通。\n",
      "台湾国学大儒傅佩荣解\n",
      "时运：蓄积德行，出而用世。\n",
      "财运：矿山生意，果决则吉。\n",
      "家宅：君子居吉；婚姻之始。\n",
      "身体：驱去邪热，可保平安。\n",
      "传统解卦\n",
      "这个卦是异卦（下坎上艮）相叠，艮是山的形象，喻止；坎是水的形象，喻险。卦形为山下有险，仍不停止前进，是为蒙昧，故称蒙卦。但因把握时机，行动切合时宜，因此，具有启蒙和通达的卦象。\n",
      "大象：蒙者，昏而无所见也，故宜「启蒙」。\n",
      "运势：初时迷惑不知方向，须忍耐待机而动，凡事多听取别人意见，则运可通。\n",
      "事业：事业开始，混乱无序，危机四伏，以勇敢坚毅的行动可以扭转局面。然而必须接受严格教育，培养这种奋发图强的精神。务必脚踏实地，最忌好高骛远，否则会陷入孤立无援的境地。\n",
      "经商：务必小心谨慎，不得急功近利，尤其应树立高尚的商业道德，以良好的信誉提高竞争力而取胜。\n",
      "求名：必须接受良好的基础教育，陶冶情操。且动机纯正，可以达到目的。\n",
      "婚恋：注意考察对方品德，不可以金钱为诱铒。夫妻需相互宽容、理解。\n",
      "决策：有时会陷入迷惘困顿的境地，加上胆小、不果断，往往误事。如能接受长辈的教诲，甚至严酷的考验，抛弃疑惧的心理，等待适当时机，必然一帆风顺。\n",
      "------\n",
      "样例 2:\n",
      "屯卦原文\n",
      "屯。元，亨，利，贞。勿用，有攸往，利建侯。\n",
      "象曰：云，雷，屯；君子以经纶。\n",
      "白话文解释\n",
      "屯卦。大吉大利，吉利的占卜。不利于出门。有利于建国封侯。\n",
      "《象辞》说：屯的上卦为坎，坎为云，下卦为震，震为雷。云行于上，雷动于下，是屯卦的卦象。君子观此卦象，取法于云雷，用云的恩泽，雷的威严来治理国事。\n",
      "《断易天机》解\n",
      "屯卦坎上震下，为坎宫二世卦。屯说明有困难，又象征动而逢险境，需刚毅果敢方为吉。\n",
      "北宋易学家邵雍解\n",
      "万物始生，开始困难；先劳后逸，苦尽甘来。\n",
      "得此卦者，身处困境，宜守不宜进，须多加辛苦努力，排除困难，方可通达，有初难后解之象。\n",
      "台湾国学大儒傅佩荣解\n",
      "时运：宜守不宜进。\n",
      "财运：创业维艰。\n",
      "家宅：修缮住宅；初婚不和。\n",
      "身体：保存元气。\n",
      "传统解卦\n",
      "这个卦是异卦（下震上坎）相叠，震为雷，喻动；坎为雨，喻险。雷雨交加，险象丛生，环境恶劣。“屯”原指植物萌生大地，万物始生，充满艰难险阻，然而顺时应运，必欣欣向荣。\n",
      "大象：屯者难也，万事欲进而不得进。\n",
      "运势：身处困境，步步为营，有初难后解之意。\n",
      "事业：起初多有不利，要知难而进，小心翼翼，勇往直前，灵活机动，可望获得大的成功，时机到来时一定要抓住，却也不得操之太急，且仍有困难，务必有他人相助，故平时应多施恩惠。\n",
      "经商：创业初期步履艰难，多有挫折。坚定信念最重要，不要为表面现象所迷惑，应积极进取，行动果断，打开出路。若仍无法摆脱困境，则应退守保全，等待机会，再展宏图。\n",
      "求名：积极争取，主动追求，可以成功。\n",
      "婚恋：好事多磨，忠贞纯洁，大胆追求，能够成功，婚姻美满。\n",
      "决策：初始困难，但若具有坚忍不拔的毅力和锲而不舍的奋斗精神，前途不可估量，但往往不为他人理解而陷于孤独苦闷，事业会因此处于困难状态，需要得到贤德之人的帮助才能摆脱。如能以乐观主义精神处世，能取得成就。\n",
      "------\n",
      "样例 3:\n",
      "需卦原文\n",
      "需。有孚，光亨，贞吉。利涉大川。\n",
      "象曰：云上于天，需；君子以饮食宴乐。\n",
      "白话文解释\n",
      "需卦：抓到俘虏。大吉大利，吉利的卜问。有利于涉水渡河。\n",
      "《象辞》说：需的上卦为坎，表示云；下卦为乾，表示天。云浮聚于天上，待时降雨是需卦的卦象。君子观此卦象，可以宴饮安乐，待时而动。\n",
      "《断易天机》解\n",
      "需卦坎上乾下，为坤宫游魂卦。需为踌躇、期待，虽然刚强，但前面有险阻，应当等待，涉大川则利。\n",
      "北宋易学家邵雍解\n",
      "坎陷当前，遇阻不进；大器晚成，收成在后。\n",
      "得此卦者，时机尚未成熟，需要耐心等待，急进反会见凶。\n",
      "台湾国学大儒傅佩荣解\n",
      "时运：时机尚未成熟，耐心等待。\n",
      "财运：资本未集，无法开张。\n",
      "家宅：平安是福。\n",
      "身体：调节饮食，健康有望。\n",
      "传统解卦\n",
      "这个卦是异卦（下乾上坎）相叠，下卦是乾，刚健之意；上卦是坎，险陷之意。以刚逢险，宜稳健之妥，不可冒失行动，观时待变，所往一定成功。\n",
      "大象：云登天上而未雨，不能急进，等待时机之象。\n",
      "运势：智者必须待时而行，急进反见凶险。\n",
      "事业：关键在于审时度势，耐心等待，事成于安祥，切勿冒险，欲速不达。自己要充满自信，临危不惧，坚守中正，必可化险为夷。情况有利时，仍得居安思危。\n",
      "经商：行动之初，情况困难，必须以极大的耐心，创造条件和机会，行事光明磊落，观时待变，实现愿望。事情接近成功时，更应小心谨慎，切莫功亏一篑。\n",
      "求名：时机尚不成熟，应耐心等待。这时应坚定信念，不为闲言流语所动摇，努力丰富自己，再求助可靠的人便可成功。\n",
      "婚恋：慎重，切不可草率行事，逐渐培养感情，以诚实、热情相待，会发生变故，仍可以有良好的结局。双方都应懂得以柔克刚的道理。\n",
      "决策：前途光明，有雄心大志，且可实现。为此需要积蓄实力，等待时机，大器晚成。本人具有坚强的意志，冷静的头脑。前进途中会遇到困难和险阻，必须十分谨慎，坦然对待小人的中伤，在灾祸在面前能镇静自若。不轻举妄动，冷静选择方向。为人谦和、坦率，多有他人相助，促使事业成功。当时机成熟后，必然一帆风顺。\n",
      "------\n",
      "样例 4:\n",
      "讼卦原文\n",
      "讼。有孚，窒惕，中吉，终凶。利见大人，不利涉大川。\n",
      "象曰：天与水违行，讼。君子以做事谋始。\n",
      "白话文解释\n",
      "讼卦：虽有利可图(获得俘虏)，但要警惕戒惧。其事中间吉利，后来凶险。占筮得此爻，有利于会见贵族王公，不利于涉水渡河。\n",
      "《象辞》说：上卦为乾，乾为天；下卦为坎，坎为水，天水隔绝，流向相背，事理乖舛，这是讼卦的卦象。君子观此卦象，以杜绝争讼为意，从而在谋事之初必须慎之又慎。\n",
      "《断易天机》解\n",
      "讼卦乾上坎下，为离宫游魂卦。上乾为刚，下坎为险，一方刚强，一方阴险，必然产生争论，因此多有不吉。\n",
      "北宋易学家邵雍解\n",
      "天高水深，达远不亲；慎谋退守，敬畏无凶。\n",
      "得此卦者，身心不安，事多不顺，与他人多争诉之事，宜修身养性，谨慎处事。\n",
      "台湾国学大儒傅佩荣解\n",
      "时运：功名受阻，不宜树敌。\n",
      "财运：开始谨慎，终可获利。\n",
      "家宅：君子必求淑女。\n",
      "身体：预防胜于治疗。\n",
      "传统解卦\n",
      "这个卦是异卦（下坎上乾）相叠。同需卦相反，互为“综卦”。乾为刚健，坎为险陷。刚与险，健与险，彼此反对，定生争讼。争讼非善事，务必慎重戒惧。\n",
      "大象：乾天升于上，坎水降于下，相背而行而起讼。\n",
      "运势：事与愿违，凡事不顺，小人加害，宜防陷阱。\n",
      "事业：起初顺利，有利可图，继而受挫，务必警惕，慎之又慎，不得固执已见，极力避免介入诉讼纠纷的争执之中。与其这样，不如退而让人，求得化解，安于正理，可免除意外之灾。陷入争讼，即使获胜，最后还得失去，得不偿失。\n",
      "经商：和气生财，吃亏是福，切勿追求不义之财。商业谈判应坚持公正、公平、互利的原则，尽量避免发生冲突。这样便会有好结果。\n",
      "求名：不利。自己尚缺乏竞争实力，应坚守纯正，隐忍自励，自强自勉，切莫逞强。依靠有地位的人的帮助，及早渡过难关。\n",
      "婚恋：虽不尽人意，倒也般配，彼此理解，未尝不可。双方应以温和的方式处理生活。\n",
      "决策：争强好胜，不安于现状，为改变命运和超越他人而奋斗。头脑聪颖，反应敏捷，有贵人相助。但缺乏持之以恒的毅力，容易露出锋芒，得罪他人，带来诉讼之灾。宜承认现实，顺其自然，知足，适可而止。接受教训，引以为戒，可功成名就。\n",
      "------\n",
      "样例 5:\n",
      "师卦原文\n",
      "师。贞，丈人吉，无咎。\n",
      "象曰：地中有水，师。君子以容民畜众。\n",
      "白话文解释\n",
      "师卦：占问总指挥的军情，没有灾祸。\n",
      "《象辞》说：下卦为坎，坎为水；上卦为坤，坤为地，像“地中有水”，这是师卦的卦象。君子观此卦象，取法于容纳江河的大地，收容和畜养大众。\n",
      "《断易天机》解\n",
      "师卦坤上坎下，为坎宫归魂卦。师即兵众，只有选择德高望重的长者来统率军队，才能吉祥无咎。\n",
      "北宋易学家邵雍解\n",
      "忧劳动众，变化无穷；公正无私，排除万难。\n",
      "得此卦者，困难重重，忧心劳众，宜包容别人，艰苦努力，摒除一切困难。\n",
      "台湾国学大儒傅佩荣解\n",
      "时运：包容别人，修行待时。\n",
      "财运：有财有库，善自珍惜。\n",
      "家宅：旧亲联姻，可喜可贺。\n",
      "身体：腹胀之症，调气无忧。\n",
      "传统解卦\n",
      "这个卦是异卦（下坎上坤）相叠。“师”指军队。坎为水、为险；坤为地、为顺，喻寓兵于农。兵凶战危，用兵乃圣人不得已而为之，但它可以顺利无阻碍地解决矛盾，因为顺乎形势，师出有名，故能化凶为吉。\n",
      "大象：养兵聚众，出师攻伐之象，彼此有伤，难得安宁。\n",
      "运势：困难重重，凡事以正规行事，忌独断独行、投机取巧，提防潜在敌人。\n",
      "事业：阻力很大，困难很多，处于激烈的竞争状态，要与他人密切合作，谨小慎微，行为果断，切忌盲目妄动，适度即可，注意保全自己。机动灵活，严于律已。从容沉着对付一切，必能成功。\n",
      "经商：已有一定的积蓄，可以从事大的营销活动，但必卷入激烈商战，以刚毅顽强的精神和高尚的商业道德，辅以灵活的方法，勿贪图小利，勿掉以轻心，加强与他人的沟通，必可摆脱困境，化险为夷。\n",
      "求名：具备很好的条件，但须有正确的引导，务必严格要求自己，克服不利因素的干扰，经过扎实努力，必可名利双全。\n",
      "婚恋：慎重、专注，否则会陷入“三角”纠纷。痴情追求可以达到目的。\n",
      "决策：天资聪颖，性格灵活，具有坚强的意志，对事业执着追求，迎难而进。可成就大事业。喜竞争，善争辩，富有冒险精神，不免带来麻烦，务老成持重，不贪功，以中正为要。\n",
      "------\n"
     ]
    }
   ],
   "source": [
    "# 输出结果以验证\n",
    "for i, sample in enumerate(raw_content_data[:5]):  # 打印前5个样例以检查\n",
    "    print(f\"样例 {i+1}:\")\n",
    "    print(sample)\n",
    "    print(\"------\")\n"
   ]
  },
  {
   "cell_type": "markdown",
   "id": "7633a7be-88f2-4d59-9070-d8a08e6e909c",
   "metadata": {},
   "source": [
    "### 将以上的所有模块，整合到一起，自动化生成数据"
   ]
  },
  {
   "cell_type": "code",
   "execution_count": 20,
   "id": "fd5d803a-6adf-4b6b-acda-7dbb7a259f06",
   "metadata": {
    "jupyter": {
     "source_hidden": true
    }
   },
   "outputs": [
    {
     "name": "stderr",
     "output_type": "stream",
     "text": [
      "WARNING! top_p is not default parameter.\n",
      "                    top_p was transferred to model_kwargs.\n",
      "                    Please confirm that top_p is what you intended.\n",
      "WARNING! frequency_penalty is not default parameter.\n",
      "                    frequency_penalty was transferred to model_kwargs.\n",
      "                    Please confirm that frequency_penalty is what you intended.\n",
      "WARNING! presence_penalty is not default parameter.\n",
      "                    presence_penalty was transferred to model_kwargs.\n",
      "                    Please confirm that presence_penalty is what you intended.\n"
     ]
    }
   ],
   "source": [
    "from langchain.chat_models import ChatOpenAI\n",
    "from langchain.schema import HumanMessage, SystemMessage\n",
    "from langchain.prompts.chat import (\n",
    "    ChatPromptTemplate,\n",
    "    HumanMessagePromptTemplate,\n",
    "    SystemMessagePromptTemplate,\n",
    ")\n",
    "\n",
    "# 初始化LangChain的GPT-3.5调用\n",
    "chat = ChatOpenAI(model=model,\n",
    "                  base_url=base_url,\n",
    "                  api_key=api_key,\n",
    "                  temperature=1,\n",
    "                  max_tokens=max_tokens,\n",
    "                  top_p=top_p,\n",
    "                  frequency_penalty=0,\n",
    "                  presence_penalty=0)\n",
    "\n",
    "def gen_data(raw_content):\n",
    "    \"\"\"\n",
    "    使用LangChain GPT-3.5调用处理单个数据样例。\n",
    "\n",
    "    :param raw_content: 原始数据样例。\n",
    "    :return: GPT-3.5模型生成的内容。\n",
    "    \"\"\"\n",
    "    # 系统消息定义背景和任务\n",
    "    system_message = SystemMessage(\n",
    "        content=\"\"\"\n",
    "        你是中国古典哲学大师，尤其擅长周易的哲学解读。\n",
    "\n",
    "        接下来，你收到的都是关于周易卦象的解释，你需要整理润色，并生成用于大模型训练的内容和格式。\n",
    "\n",
    "        示例输入：\n",
    "\n",
    "        师卦，此卦是异卦相叠，下卦为坎，上卦为坤。“师”指军队。坎为水、为险；坤为地、为顺，喻寓兵于农。兵凶战危，用兵乃圣人不得已而为之，但它可以顺利无阻碍地解决矛盾，因为顺乎形势，师出有名，故能化凶为吉。占得此卦，对于军事上率师出征非常有利，必无灾祸。师卦是天马出群之卦，以寡伏众之象。\n",
    "        师卦位于讼卦之后，《序卦》之中这样解释道：“讼必有众起，故受之以师。师者，众也。”争讼的人越来越多，以致形成了军队。\n",
    "\n",
    "        期待结果：\n",
    "\n",
    "        content:\"师卦\"\n",
    "        summary:\"在周易中，师卦是一个极具深意的卦象，它由两个异卦相叠组成：下卦坎（水）和上卦坤（地）。这一卦象代表“师”，即军队，寓意着兵力和农力的结合。在这里，坎卦象征着水和险难，而坤卦象征着地和顺从，暗示着通过将军事力量安置于民间，可以在必要时顺利调动。\n",
    "\n",
    "        师卦的核心哲学是：虽然兵力代表着危险和战争，但其使用应当是圣人不得已而为之的最后手段。在正确的情况下，军事力量可以顺应形势，将危险转化为吉祥。因此，在军事策略上，此卦象征着出征将会顺利，无灾祸。\n",
    "\n",
    "        师卦紧随讼卦（争讼卦），在《序卦》中解释为“讼必有众起，故受之以师”。这意味着争端激化至众多人群的参与，形成了类似军队的集体力量。\"\n",
    "        \"\"\"\n",
    "    )\n",
    "\n",
    "    # 人类消息包含原始数据样例\n",
    "    human_message = HumanMessage(\n",
    "        content=raw_content\n",
    "    )\n",
    "\n",
    "    # 构建消息列表并进行模型调用\n",
    "    messages = [system_message, human_message]\n",
    "    ai_message = chat(messages)\n",
    "\n",
    "    return ai_message.content"
   ]
  },
  {
   "cell_type": "code",
   "execution_count": 21,
   "id": "7790a03b-2fe7-445d-90d4-941d790d419b",
   "metadata": {
    "collapsed": true,
    "jupyter": {
     "outputs_hidden": true
    }
   },
   "outputs": [
    {
     "name": "stdout",
     "output_type": "stream",
     "text": [
      "content:\"蒙卦\"\n",
      "summary:\"蒙卦，作为六十四卦之一，展现了从无知到启蒙的过程，其卦象由艮（山）上坎（水）下组成，象征着山下涌出的泉水，意指智慧和知识的萌芽穿透蒙昧的土壤。此卦昭示着在混沌与困惑中寻求指引与自我提升的旅程。\n",
      "\n",
      "山象徵障碍与停止，水象征困难与险阻，蒙卦的整体意境，是处于不明与困难之中，寻找出路与启迪。卦辞指出，开启智慧之门并非出于被动，而是需要主动探索和学习，如同童蒙求教于智者。首次诚心求问能获启示，反复轻率询问则将得不到答案，强调了真诚与专注的重要性。\n",
      "\n",
      "《象传》中，君子应当效仿山泉之坚定不移与勇往直前，以此坚定自己的行为，培育高尚品德。在实际应用层面，蒙卦提示人们在面临初始阶段的无知与疑惑时，需依靠正确引导和内在修养，通过坚持不懈与果敢行动来摆脱蒙昧状态，实现成长与进步。\n",
      "\n",
      "在不同领域，蒙卦都提醒人们蓄势待发、稳扎稳打的原则：在个人修养上，意味着积累德行，适时展现才能；在商业经营中，强调诚信与耐心，避免急功近利；于求学问道，则重视基础教育与道德情操的培养。总体而言，面对蒙卦所示的挑战，坚持正道，勇于探索并虚心受教，最终将迎来转机与成功。\"\n"
     ]
    }
   ],
   "source": [
    "# 示例调用（使用 raw_data.txt 中解析的数据样例）\n",
    "generated_content = gen_data(raw_content_data[0])\n",
    "print(generated_content)"
   ]
  },
  {
   "cell_type": "code",
   "execution_count": 22,
   "id": "4e37d53c-3dd4-4494-a83f-c45786e40caa",
   "metadata": {},
   "outputs": [],
   "source": [
    "def dataset_parser(ai_message_content):\n",
    "    \"\"\"\n",
    "    解析由gen_data函数生成的ai_message.content，提取content和summary。\n",
    "\n",
    "    :param ai_message_content: gen_data函数返回的文本。\n",
    "    :return: 提取的content和summary。\n",
    "    \"\"\"\n",
    "    # 分割字符串来找到content和summary的位置\n",
    "    content_start = ai_message_content.find('content:\"') + len('content:\"')\n",
    "    content_end = ai_message_content.find('\"\\nsummary:')\n",
    "    summary_start = ai_message_content.find('summary:\"') + len('summary:\"')\n",
    "    summary_end = ai_message_content.rfind('\"')\n",
    "\n",
    "    # 提取并存储content和summary\n",
    "    content = ai_message_content[content_start:content_end].strip()\n",
    "    summary = ai_message_content[summary_start:summary_end].strip()\n",
    "\n",
    "    return content, summary\n"
   ]
  },
  {
   "cell_type": "code",
   "execution_count": 23,
   "id": "bc2f94fd-52d2-473e-b70a-721ab4d1f5cf",
   "metadata": {
    "collapsed": true,
    "jupyter": {
     "outputs_hidden": true
    }
   },
   "outputs": [
    {
     "name": "stdout",
     "output_type": "stream",
     "text": [
      "Content: 蒙卦\n",
      "Summary: 蒙卦，作为六十四卦之一，展现了从无知到启蒙的过程，其卦象由艮（山）上坎（水）下组成，象征着山下涌出的泉水，意指智慧和知识的萌芽穿透蒙昧的土壤。此卦昭示着在混沌与困惑中寻求指引与自我提升的旅程。\n",
      "\n",
      "山象徵障碍与停止，水象征困难与险阻，蒙卦的整体意境，是处于不明与困难之中，寻找出路与启迪。卦辞指出，开启智慧之门并非出于被动，而是需要主动探索和学习，如同童蒙求教于智者。首次诚心求问能获启示，反复轻率询问则将得不到答案，强调了真诚与专注的重要性。\n",
      "\n",
      "《象传》中，君子应当效仿山泉之坚定不移与勇往直前，以此坚定自己的行为，培育高尚品德。在实际应用层面，蒙卦提示人们在面临初始阶段的无知与疑惑时，需依靠正确引导和内在修养，通过坚持不懈与果敢行动来摆脱蒙昧状态，实现成长与进步。\n",
      "\n",
      "在不同领域，蒙卦都提醒人们蓄势待发、稳扎稳打的原则：在个人修养上，意味着积累德行，适时展现才能；在商业经营中，强调诚信与耐心，避免急功近利；于求学问道，则重视基础教育与道德情操的培养。总体而言，面对蒙卦所示的挑战，坚持正道，勇于探索并虚心受教，最终将迎来转机与成功。\n"
     ]
    }
   ],
   "source": [
    "# 示例调用（使用假设的gen_data函数返回的文本）\n",
    "content, summary = dataset_parser(generated_content)\n",
    "print(\"Content:\", content)\n",
    "print(\"Summary:\", summary)"
   ]
  },
  {
   "cell_type": "code",
   "execution_count": 27,
   "id": "716794df-b608-4cca-a45d-9c597cf2a333",
   "metadata": {},
   "outputs": [],
   "source": [
    "import csv\n",
    "import datetime\n",
    "import os\n",
    "\n",
    "# 增加重试次数，千问个大笨蛋跑一段时间会抱怨，直接失败了\n",
    "def retry_gen_data(raw_content, max_attempts=3):\n",
    "    attempts = 0\n",
    "    while attempts < max_attempts:\n",
    "        try:\n",
    "            result = gen_data(raw_content)\n",
    "            return result\n",
    "        except Exception as e:\n",
    "            attempts += 1\n",
    "            print(f\"Attempt {attempts} failed: {e}\")\n",
    "            if attempts == max_attempts:\n",
    "                raise\n",
    "    return None\n",
    "\n",
    "def main():\n",
    "    # 确保 data 目录存在\n",
    "    if not os.path.exists('data'):\n",
    "        os.makedirs('data')\n",
    "\n",
    "    # 解析 data/raw_data.txt 得到 raw_content_data 列表\n",
    "    raw_content_data = []\n",
    "    with open('data/raw_data.txt', 'r', encoding='utf-8') as file:\n",
    "        content = file.read()\n",
    "        data_samples = content.split('\\n\\n')\n",
    "        for sample in data_samples:\n",
    "            cleaned_sample = sample.strip()\n",
    "            if cleaned_sample:\n",
    "                raw_content_data.append(cleaned_sample)\n",
    "\n",
    "    # 创建带有时间戳的CSV文件名\n",
    "    timestamp = datetime.datetime.now().strftime(\"%Y%m%d_%H%M%S\")\n",
    "    filename = f\"data/zhouyi_dataset_{timestamp}.csv\"\n",
    "\n",
    "    # 创建CSV文件并写入标题行\n",
    "    with open(filename, mode='w', newline='', encoding='utf-8') as file:\n",
    "        writer = csv.writer(file)\n",
    "        writer.writerow(['content', 'summary'])\n",
    "\n",
    "        # 循环遍历 raw_content_data 数据样例\n",
    "        for raw_content in raw_content_data:\n",
    "            # 调用 gen_data 方法得到 ai_message_content\n",
    "            try:\n",
    "                ai_message_content = retry_gen_data(raw_content)\n",
    "            except:\n",
    "                print(\"Error:\", raw_content)\n",
    "                continue\n",
    "\n",
    "            # 解析 ai_message_content 得到 content 和 summary\n",
    "            content, summary = dataset_parser(ai_message_content)\n",
    "            \n",
    "            print(\"Content:\", content)\n",
    "            print(\"Summary:\", summary)\n",
    "\n",
    "            # 调用 generate_question_summary_pairs 得到20组 pairs\n",
    "            pairs = generate_question_summary_pairs(content, summary)\n",
    "\n",
    "            # 将 pairs 写入 csv 文件\n",
    "            for pair in pairs:\n",
    "                writer.writerow(pair)\n"
   ]
  },
  {
   "cell_type": "code",
   "execution_count": 28,
   "id": "c7869572-220d-4542-ab57-9d98613bbc80",
   "metadata": {
    "collapsed": true,
    "jupyter": {
     "outputs_hidden": true
    }
   },
   "outputs": [
    {
     "name": "stdout",
     "output_type": "stream",
     "text": [
      "Attempt 1 failed: Error code: 400 - {'error': {'code': 'data_inspection_failed', 'param': None, 'message': 'Input data may contain inappropriate content.', 'type': 'data_inspection_failed'}, 'id': 'chatcmpl-799b3189-630f-9d7d-8fec-1b525de33486'}\n",
      "Attempt 2 failed: Error code: 400 - {'error': {'code': 'data_inspection_failed', 'param': None, 'message': 'Input data may contain inappropriate content.', 'type': 'data_inspection_failed'}, 'id': 'chatcmpl-7a99c23d-538b-9c84-8841-a18bbbd727a9'}\n",
      "Attempt 3 failed: Error code: 400 - {'error': {'code': 'data_inspection_failed', 'param': None, 'message': 'Input data may contain inappropriate content.', 'type': 'data_inspection_failed'}, 'id': 'chatcmpl-c59d9f6e-0a88-9bc0-9669-9be930ba322b'}\n",
      "Error: 夬卦原文\n",
      "夬。扬于王庭，孚号，有厉。告自邑，不利即戎，利有攸往。\n",
      "象曰：泽上于天，夬。君子以施禄及下，居德则忌。\n",
      "白话文解释\n",
      "夬卦：王庭里正跳舞作乐。有人呼告：“有敌人来犯。”邑中传来命令：“出击不利，要严阵以待。”筮遇此爻，出外旅行则吉利。\n",
      "《象辞》说：本卦上卦为兑，兑为泽；下卦为乾，乾为天，可见泽水上涨，浇灌大地，是夬卦的卦象。君子观此卦象，从而泽惠下施，不敢居功自傲，并以此为忌。\n",
      "《断易天机》解\n",
      "夬卦兑上乾下，为坤宫五世卦。此卦中的夬为决断、决裂，象征会有危险之事，利有攸往，往前有利。\n",
      "北宋易学家邵雍解\n",
      "排除决去，必须刚断；始吉终凶，谨慎自重。\n",
      "得此卦者，大运将过，困难将至，宜提高警惕，谨言慎行。\n",
      "台湾国学大儒傅佩荣解\n",
      "时运：气运过盛，散财为吉。\n",
      "财运：利己利人，财散人聚。\n",
      "家宅：须防水患；婚姻不成。\n",
      "身体：调养气息。\n",
      "传统解卦\n",
      "这个卦是异卦（下乾上兑）相叠。乾为天为健；兑为泽为悦。泽气上升，决注成雨，雨施大地，滋润万物。五阳去一阴，去之不难，决（去之意）即可，故名为夬（guài），夬即决。\n",
      "大象：泽水积满而泛滥成灾，滔天之势。又五阳爻之盛势必除去唯一阴爻，故一阴孤立。\n",
      "运势：目前虽吉，但困难及变动正在蕴酿中，宜提高警觉，忌骄傲，防口舌是非。\n",
      "事业：处在兴盛阶段，但已孕育着普遍的危险。务必施恩泽给他人，勿居功自傲，主动团结他人，不干冒险的事。时时提高警惕，防止小人的破坏。但不可莽撞，应持和缓的手段去决断小人，避免过犹不及。\n",
      "经商：市场正在走向衰落的状态，不宜大量活动，随时注意转向。开拓新领域时，加强同他人的合作。但务必充分注意别有用心的奸诈小人趁机捣乱和破坏。\n",
      "求名：虚心求教，充实自身实力。但应量力而行，不可盲目自大，更不可同小人合流，图虚名而败坏事业。\n",
      "婚恋：防止上介绍人的当，也应注意对方的目的。\n",
      "决策：性格矛盾，往往表面刚强而内心虚弱，在关键的时刻，败坏事业。虚心听取他人劝告，切勿鲁莽，多谋深思，用柔和的态度待人处世。\n",
      "Content: 姤卦\n",
      "Summary: 姤卦，卦象建构在异卦之上，下卦为巽（风），上卦为乾（天），象征着无处不在、穿透一切的风，揭示了‘邂逅’之意，即阴阳在不经意间相遇。此卦预示着事物发展中的一个转折点，标志着阳盛渐衰，阴气开始增长，提示当前正处于运势转换的微妙时期，需谨防事物走向不利。\n",
      "\n",
      "《象辞》中进一步阐述，姤卦寓意帝王如风般广施教化，影响四方，寓意虽环境充满挑战，但仍需积极作为，传达正面信息。白话文解释则警示此卦不利于婚嫁，尤其是男子娶妻，强调在这样的时局下不宜进行此类决策。\n",
      "\n",
      "从不同学者的解读来看，姤卦更深层次地涉及到个人的运势与决策：在事业发展上，要求顺势而为，结盟强者，警惕小人，把握时机；商业活动需谨慎评估市场状况，避免风险投资，选择诚信伙伴共渡难关；名誉地位的追求，需依附正直之人，通过他们的助力来化解个人面临的孤立无援；在爱情婚姻方面，则强调了忠诚与诚实的重要性，要避免情感纠葛，尤其要防止涉及三角关系的复杂情况；至于关键决策，建议把握机遇，同时时刻防范小人的危害，必要时宁可孤独也要坚持原则，防止被不良力量所诱导。\n",
      "\n",
      "综合而言，姤卦不仅是对自然规律的描述，也是对人生社会现象的深刻反思，提示人们在机遇与风险并存的时刻，如何通过智慧与品德的指引，实现和谐与稳定的发展。\n",
      "content: 姤卦\n",
      "Content: 萃卦\n",
      "Summary: 萃卦，作为兑宫体系中的第二世卦，展现了一幅泽水上溢、滋润大地的景象，象征着资源汇集与丰盛。此卦寓意吉祥，象征着通达顺利，预示着适宜拜会贵人，整体趋势吉利且坚守正道将更加顺遂。使用隆重的祭品祭祀将带来吉祥，并鼓励有所行动，预示着向前发展亦为有利。\n",
      "\n",
      "《象辞》的解析深化了这一卦的内涵，指出君子应从卦象中汲取教训，如同洪水泛滥覆盖土地警示着危机与纷乱的潜在威胁，应提前整备武器，提高警觉以防不测之事发生。\n",
      "\n",
      "诸多易学大家对此卦的阐释强调了其代表的好运与收获，特别是得到贵人的助力，无论是在时运、财运，还是在家庭、健康方面，都提醒人们虽处顺境却不可忘却潜在风险，需持守中正之道，既要有聚集资源的智慧，也要有分散风险的远见。事业层面，萃卦鼓励团结协作，警惕竞争中的潜在危机，建议在强盛时保持谦逊，同时决策时应果断而不犹豫，勇于拓展新局。在商业活动上，诚信合作是成功的关键，并倡导大胆创新但需谨慎行事，以备不时之需。至于求取名声，则需借助外力与自身的条件相辅相成，不可孤军奋战。\n",
      "content: 萃卦\n",
      "Attempt 1 failed: Error code: 400 - {'error': {'code': 'data_inspection_failed', 'param': None, 'message': 'Input data may contain inappropriate content.', 'type': 'data_inspection_failed'}, 'id': 'chatcmpl-837d3b01-8c42-9400-a455-629be0a62ea1'}\n",
      "Content: 升卦\n",
      "Summary: 升卦，作为震宫四世卦，其构成是坤上巽下，象征着从地底深处树木渐渐升起之景。此卦预示着万物的上升、发展与进步，如同破晓而出的阳光，昭示着从暗到明，从小累积而成就伟大的亨通畅达之象。\n",
      "\n",
      "《象辞》对升卦的诠释深入浅出，借由地（坤）中生木（巽）的形象，启发君子应遵循美德之道，从细微处做起，不懈积累，以成就崇高的品质与成就。\n",
      "\n",
      "在实际应用层面，升卦昭示着个人或事业的全面上扬：\n",
      "- 时运上，它意味着春天般的回暖，预示着持续不断的上升趋势。\n",
      "- 财运方面，勤俭持家，耐心积累，终将成为富有之人。\n",
      "- 家庭层面，可能寓意着家庭结构的变化或是生活质量的显著提升。\n",
      "- 健康上，则警示需留意体内阳气（如肝火）的增长，应及时调整保养。\n",
      "\n",
      "卦象中的“升”，其异卦结构（下巽上坤）寓意着成长与进步。树木在大地上茁壮成长的过程，恰似事务从微小开始，经历时间与努力，最终达到宏伟高度的象征。\n",
      "\n",
      "总体运势指出，此时正是名与利兼收并蓄，向南方扩展尤为吉祥的时机。无论是事业的经营、名声的追求，还是学业的进步、情感的发展，都强调了循序渐进、诚实守信以及适时的谨慎与自省的重要性。升卦启示人们，要依托既有基础，同时不忘谦逊求教，通过不懈的努力与智慧的运用，终将如树木参天，成就一番伟业。\n",
      "content: 升卦\n",
      "Content: 困卦\n",
      "Summary: 困卦，兑上坎下的组合，体现了泽中无水之象，象征着极度的困境与挑战。此卦告诫人们在遭遇艰难时刻时，应保持亨通的心态，坚持正道（贞），对于德高望重之人（大人），这将引领他们走向吉祥并远离过失（吉，无咎）。卦中还警示，当处于困境时，即便发出真诚的话语也可能不受信任（有言不信）。\n",
      "\n",
      "《象辞》进一步阐释，困卦的形象如同泽无水般枯竭，提示君子应以此为鉴，即使面临绝境也要勇于担当，矢志不渝，甚至不惜一切以达成初衷。这是对处于逆境中人的激励，鼓励其在困苦中磨砺意志，持守道德，静待转机。\n",
      "\n",
      "具体到不同领域的解读：\n",
      "\n",
      "- **时运**：象征着个人运势低落，提示接纳现状，顺应天命。\n",
      "- **财运**：意味着财务状况紧张，事业处于低谷，最好的选择可能是暂时退守。\n",
      "- **家庭**：强调安全的重要性，同时也可能是家庭结构中的缺失或不完整。\n",
      "- **健康**：提示注意肾水亏损的问题，预示着健康上的潜在风险。\n",
      "\n",
      "此卦还寓意着虽然外界环境恶劣，君子仍应坚持原则，不为困境所动摇，如此才能最终突破难关，实现自我超越。这是一场对品德与毅力的巨大考验，也是对人生智慧与处世哲学的深度反思。\n",
      "content: 困卦\n",
      "Content: 井卦\n",
      "Summary: 井卦，作为周易六十四卦之一，展现了一幅水木相依、滋养共生的景象。此卦上卦为坎（水），象征深邃的水体，下卦为巽（风），代表树木以及柔性的成长。这种结构寓意着水井静处于地，为民众提供生命之源，树木则向上汲取水分，两者构成了大自然中和谐共存的典范。\n",
      "\n",
      "《象传》中提到，井卦体现的是水上木的自然现象，提示着君子应效仿井水滋养万物的精神，勤勉为民，促进社会间的相互劝勉与帮助。卦辞告诫人们应固守正道，即使外部环境变化，如邑落变迁，但滋养人心的根本——如同井水一般的原则和精神——不应改变。\n",
      "\n",
      "具体到人生指导，井卦强调了在静中求进的道理，鼓励个人在时机不成熟时修身养性，坚持自我提升与道德修养，以待时而动。事业上需稳健经营，不急于一时的得失，而是要持续学习与积累，保持勤劳和进步的态度，尤其是在人际合作中展现出诚信与协作精神。\n",
      "\n",
      "在求名、求财及婚恋方面，井卦都传递出相似的信息：保持正直，通过诚实劳动与社会贡献赢得认可；财富积累需耐心经营，重视长线发展；情感关系上，应相信时间会带来合适的缘分，无需过于急躁。\n",
      "\n",
      "总体而言，井卦不仅是对个人德行与社会职责的深刻探讨，也是关于如何在复杂多变的社会环境中，通过不懈的努力与奉献，达到内外和谐、稳定发展的哲学指导。\n",
      "content: 井卦\n",
      "Content: 革卦\n",
      "Summary: 革卦，兑上离下，归于坎宫四世卦，预示着事物的变革与转换。此卦象征变化之必然，提示占者必须顺应时势，勇于改革陈规，方能迎来新生与吉祥。卦象上兑泽下离火，泽中有火，寓意着水火之间的相互作用，既相生亦相克，象征变革的内在动力和冲突。\n",
      "\n",
      "《象辞》中解释，泽中的火形象地描绘了水干火熄的变化过程，启示君子需观察自然界变化的规律，如泽水消长与季节更迭，以此来制定历法，明确时节变换，体现对时局掌握和适时调整的智慧。\n",
      "\n",
      "从占断角度分析，革卦强调万事万物正处于变动中，主张去旧更新，无论是个人运势、事业发展、商业经营还是求学求名，均需把握住变化的核心，敢于创新并坚持正义的原则。改革并非一帆风顺，要求决策者具有前瞻性的思考、果断的行动力以及应对挑战的灵活策略。\n",
      "\n",
      "在具体建议上，革卦提醒人们：\n",
      "- **事业**：抓住转折点，谨慎决策，时机成熟时果断变革。\n",
      "- **经商**：面对激烈竞争，需不断创新经营思路，但需确保方式正当。\n",
      "- **求名**：自我提升的同时，学会团队合作，处理好上下级关系。\n",
      "- **婚恋**：情感中遇困难要冷静沟通，保持忠诚与专一。\n",
      "- **决策**：行动前需审时度势，谋定而后动，避免急躁轻进，追求可持续发展的变革之路。\n",
      "\n",
      "革卦传递了一个核心理念：只有洞察变化的本质，勇敢且智慧地引领或适应变革，才能把握机遇，获得成功与繁荣。\n",
      "content: 革卦\n",
      "Content: 鼎卦\n",
      "Summary: 鼎卦，作为周易六十四卦之一，展现了一幅木上燃火、烹饪食物的景象，象征着变化与更新。此卦由巽木下卦与离火上卦相叠而成，寓意着从老旧迈向新生的过程。在周易体系中，鼎卦象征着大吉大利，预示着通达与晋升的可能。\n",
      "\n",
      "《象辞》借鼎之三足稳固，教导君子应当正直守位，以确保使命之圆满执行。对于君子而言，鼎卦启示要像鼎一样，正立不倚，坚守正道。\n",
      "\n",
      "在实际应用层面，鼎卦通常带来正面的运势，尤其是在事业与财运上。它告诫人们在时运正佳时应积极行动，依靠朋友或合作伙伴的力量，共同成就大事。同时，鼎卦提醒需注意诉讼之忧，强调行事正当，戒骄戒躁，保持谨慎态度，特别是在事业发展与商业决策中，应当量入为出，遵循道德规范。\n",
      "\n",
      "求名之路，鼎卦鼓励积累善行，以德服人，稳健上升。个人条件虽好，但务必脚踏实地，不宜好高骛远。\n",
      "\n",
      "总的来说，鼎卦不仅是变革与复兴的象征，也警醒人们在成功之路上不可忘乎所以，应当把握时机，以智慧和正直稳步前进。\n",
      "content: 鼎卦\n",
      "Content: 震卦\n",
      "Summary: 震卦，作为震宫之本位卦，象征着双重雷声，既是自然界的雷鸣，也寓意着内心的震动与觉醒。卦象之下，君子应感知到如同连续雷声的警示，以此修身养性，保持敬畏之心，通过自我反省提升道德修为。\n",
      "\n",
      "此卦展现了一个动荡变化的局势：外在似乎亨通，内在却潜藏挑战。它告诫人们在顺利时亦要居安思危，面对突发事件能够镇定自若，将危机转化为成长的契机。震卦不仅仅是惊吓与震动，更是力量汇聚与重新出发的象征。\n",
      "\n",
      "在具体层面，无论是个人时运、财务状况、家庭关系或身体健康，震卦都提示需防微杜渐，避免过度劳累，同时利用当前的活力与机会，谨慎规划，稳步前行。于事业、经商、求名及婚恋各方面，强调了在困境中持守中正之道，刚毅面对，灵活应对，最终能从逆境中脱颖而出，达到新的成就高峰。\n",
      "\n",
      "决策之际，震卦强调转折点上的深刻自我反思，坚持原则与信念，在恐惧中寻找智慧，勤勉不懈，以不变应万变，方能在命途中迎来亨通。\n",
      "content: 震卦\n",
      "Content: 艮卦\n",
      "Summary: 艮卦象征着静止与内省，在周易中以其独特的双重山形呈现，强调适时的停止与自我约束的重要性。此卦提醒人们应当在达到一定阶段后进行反思与调整，而非盲目追求前进。它教导我们要学会在行动与静止间找到平衡点，做到'宜止则止，宜行则行'，把握恰当的时机。\n",
      "\n",
      "在个人修养层面，'君子以思不出其位'意味着个体当专注于自身的职责范围，不越界干涉他人，以智慧和节制来保护自己，避免无谓的风险和纷争。在具体情境中，无论是仕途中的隐退，还是财物的管理，都需遵循这一原则，做到谨慎行事，知足常乐。\n",
      "\n",
      "艮卦的启示适用于多方面，包括事业发展应适时暂停，审视现状；商业经营遇阻时，则宜静待转机，避免盲动合作；求名之路则需坚守道德，不受外界诱惑。在感情世界里，它强调了真诚相待与长久承诺的价值。总体而言，艮卦鼓励在面对困境或选择时，采取保守与思考的姿态，等待最佳时机的到来，以实现长远的和谐与成功。\n",
      "content: 艮卦\n",
      "Content: 渐卦\n",
      "Summary: 渐卦，象征逐步发展与进步，其卦象为下艮上巽，山上有木，寓意事物如树木生长于山上一般，随着时间缓缓壮大，强调循序渐进的重要性。此卦体现了一个从静止到新开始的过程，告诫人们应避免急于求成，而应脚踏实地，稳步前进。\n",
      "\n",
      "《象辞》借山木的成长象征君子需培养贤德，以自身良好品行改善社会风俗。《断易天机》则强调此卦预示女性出嫁吉祥，诸事顺利，但需遵循渐进原则。邵雍对此卦的解读为，循序渐进能够累积小成大利，急于求成则可能导致失败。傅佩荣先生认为渐卦预示着时来运转，无论时运、财运、家宅或个人修养都将朝着积极方向发展，关键在于持之以恒和德行的积累。\n",
      "\n",
      "渐卦给予的指引不仅适用于个人发展，还涵盖了事业、经商、求名、婚恋及决策等各个领域。在事业上，需要耐心稳健推进，重视品德修养；经商则要求量力而行，坚持商业诚信；求名路上，强调德业并重，促进社会风气好转；婚姻倡导适时而行，追求长期和谐；在作出重要决策时，应当抓住机遇，谦逊处世，以取得全面成功。\n",
      "content: 渐卦\n",
      "Content: 归妹卦\n",
      "Summary: 归妹卦，象征着少女归附于长男，呈现了异常的卦象结构，上卦为震（雷），代表行动与长男；下卦为兑（泽），象征喜悦与少女。此卦揭示了在不符合常规伦理下的婚姻动态，如同少女顺从地出嫁于长男，预示着不平常的情感结合。\n",
      "\n",
      "《象传》描述，泽水之上轰鸣着雷声，象征情感波动中的结合，告诫君子应以此为鉴，在长久的婚姻生活中洞察维持与衰败的智慧。\n",
      "\n",
      "《断易天机》中指出，归妹卦寓意天地不通，事物发展遭遇闭塞，缺少好的开始或结局，所行之事往往不顺，万事不利。\n",
      "\n",
      "邵雍的解读强调，此卦警示行为违背常规道理，将导致困境重重，唯有明辨是非，克制非分之想，方能转危为安。\n",
      "\n",
      "傅佩荣先生则提醒，此时运势下，若以不正当方式求进，难以持久；财物虽有短暂利好，却未必能保持到最后；家庭方面提醒已婚者不宜久居原生家庭，且应警惕情感欲望的过度沉溺；身体健康方面，则可能预示重大转折点的到来。\n",
      "\n",
      "传统解卦则深入剖析了卦象背后的性别与地位差异，指出少女配长男这种非常态组合，预示着行事脱离正轨会初尝甜头，随之而来的是接连的不幸与挑战。在这一卦的启示下，无论是事业、经商、求名还是婚姻决策，都需坚守道德准则，慎重考虑未来走向，尤其是在感情与职业规划上，避免冲动决定，主张遵循自然法则与道德规范，以期达到长远的和谐与成功。\n",
      "content: 归妹卦\n",
      "Content: 丰卦\n",
      "Summary: 丰卦，作为坎宫之中的第五世卦，象征极致的丰满与盛大，通常预示吉祥，然而，正所谓‘月满则亏’，盛极背后亦隐藏转衰之忧，警示人们需谨慎行事，避免过度贪求导致乐极生悲的后果。\n",
      "\n",
      "卦象构造为震上离下，犹如雷电交加，昭示天象壮观，君子应借此体现的敏锐与威权，明智地处理法律纷争。《象辞》进一步阐述，此卦象寓意君子观雷电而断案施刑，强调在繁荣中不忘法规与正义。\n",
      "\n",
      "运势解析显示此阶段正处于个人或事业发展的巅峰，收获颇丰且多有喜庆之事，但警告切勿被胜利冲昏头脑，应懂得满足并提防潜在的危机，例如财务损失或火灾等意外。\n",
      "\n",
      "事业上，虽处顺境，仍需洞察细微的衰退迹象，防止骄傲情绪滋生，保持谦逊与现状的稳固发展至关重要。商业经营亦然，应审时度势，尽管目前市场有利于扩张，却也不能忽视瞬息万变的信息，以免遭遇突然的挫败。\n",
      "\n",
      "对于名誉与爱情，丰卦提示通过努力能够取得成就与幸福，关键在于维持现有成果，勿让心态的变化影响稳定。而做任何决策，当下的优越条件虽提供了便利，却也要求个体深刻理解世事变化无常，坚持适度原则，以防盛极转衰的自然法则。\n",
      "\n",
      "总结而言，丰卦不仅是成功的预言，更是对成功后如何持久稳定的智慧教导，提醒我们在昌盛之时保持警醒与自我反省的能力。\n",
      "content: 丰卦\n",
      "Content: 旅卦\n",
      "Summary: 旅卦，作为离宫初世卦，揭示了旅程与变迁的主题。卦象上离（火）下艮（山），象征‘山上有火’，寓意旅途中的照亮与警醒，提示君子在面对变化无常时应明慎用事，尤其是在法律与裁决上，既要公正无私，又需避免拖延。\n",
      "\n",
      "此卦预示著事态多变，初时或有小利，但长远目标达成艰难，旅人起初或许欢欣，随后可能遭遇困境。得此卦者，生活中将遇诸多变动，类似于身处异地，适宜保持警惕，遵循常规行事，小事可成，大事则需谨慎考虑时机与条件。\n",
      "\n",
      "运势方面，此卦提醒面临不断变化的环境时，坚持信念并采纳多方建议至关重要，因旅途中的不测风云要求我们既要灵活应对，也要坚守正道。无论是创业发展、商业运营、名声追求，还是感情进展，都强调了顺应变化、审慎决策、持续自我提升及真诚待人的原则，同时告诫我们不可过于患得患失，而应以开放的心态面对人生旅程的种种挑战与机遇。\n",
      "content: 旅卦\n",
      "Content: 巽卦\n",
      "Summary: 巽卦，作为巽宫之本位卦，呈现上下皆为巽的卦象，象征风的灵动与谦逊之德。此卦揭示了在顺应与谦卑中的小亨之道，意指在细微处见通达，利于有所行动，尤其适宜拜见尊贵人物。\n",
      "\n",
      "《象辞》的解释强调风随巽动，不绝其势，启迪君子以恒常不懈的精神不断传播教诲，坚定地执行政策法规，强化社会伦理基础。这一过程犹如长风般持续影响万物，寓意着不断推进与深化正道。\n",
      "\n",
      "《断易天机》进一步指出，巽卦昭示了顺应时势、谦逊包容的价值，这样的态度有利于获得贵人的相助，远方亦有福祉可期。运势虽多变，唯随机应变、保持谦虚者方能把握机遇，迎来意外收获。\n",
      "\n",
      "台湾傅佩荣教授的解析则更加全面地覆盖了巽卦的适用领域：个人时运顺畅，财运需灵活应变以求利润；家庭和谐，成员间互相扶持；健康方面提醒防患于未然，避免疾风般的突发疾病。\n",
      "\n",
      "从传统卦理来解，巽卦是双重风象的叠加，寓意无孔不入、深入人心的力量。在此卦指引下，个体在追求事业成就时应不畏艰难，以刚健中正为基石，勇往直前。同时，无论是在商场、求名还是婚恋中，都强调了谦逊与真诚的重要性，但告诫不可失之软弱或虚假，强调在灵活适应中持守原则，以促进个人的全面发展与成功。\n",
      "content: 巽卦\n",
      "Content: 兑卦\n",
      "Summary: 兑卦象征着喜悦与和谐，其卦象为上下皆为兑，兑代表泽，寓意两泽相连，水之交流，象征人际间的和睦与沟通。此卦展现出亨通之象，意味着在遵循正道的前提下，能够促进各方的交流与合作，带来吉祥。\n",
      "\n",
      "《象辞》对兑卦的解读强调了如两泽般交流的喜悦之情，鼓励君子应该借此增进朋友间的相互学习与探讨，以拓宽视野和见识。这不仅描绘了一幅社交繁荣的景象，也提倡了以君子之德维系社会和谐。\n",
      "\n",
      "在各种领域中，兑卦皆有其启示：\n",
      "- 个人时运上，预示着有朋友的助力与欢聚之喜，宜珍视人际资源。\n",
      "- 财运方面，预示着在友好互助的氛围中容易获利，但需注意选择伙伴。\n",
      "- 家庭关系则可因朋友关系而得强化，甚至促成姻缘。\n",
      "- 身体健康层面，则提示病痛可遇良医治愈。\n",
      "\n",
      "《断易天机》及邵雍、傅佩荣等历代学者均对兑卦有深入阐释，一致认为此卦蕴含着双重喜悦与广泛的人脉价值。同时提醒占得此卦之人，虽前景看好，但仍需坚守正道，以防误入歧途。尤其是在事业发展、商业经营、求学求名等方面，强调了真诚、团结与公正的重要性。情感生活亦能和谐美满，唯需避免过度固执。\n",
      "\n",
      "综上，兑卦不仅是人际交往的吉兆，也是对持正前行、保持谦逊美德的深刻提醒。\n",
      "content: 兑卦\n",
      "Content: 涣卦\n",
      "Summary: 涣卦，卦象呈现风（上卦巽）行于水上（下卦坎）的景象，寓意着流动与扩散。此卦象征事物的离散与消解，告诫人们应对危机四伏的局面时需采取措施，防止人心与团队的涣散，以转危为安。它传递了时来运转、困境得解的正面信息，强调通过积极主动的态度和方法克服难关。\n",
      "\n",
      "《象辞》进一步解释，涣卦启示着先王观风行水面而领悟到的祭祀天帝、建立宗庙之礼，旨在通过强化精神凝聚力，实现社会秩序的稳定与和谐。卦象中的风吹水面，既有春风融化冰雪之象，也比喻消除社会或个人内心的寒冷与隔阂。\n",
      "\n",
      "得此卦者，初始或许遭遇不顺，但最终能够解除困境，实现百事顺遂，前提是必须谨慎行事，避免任意妄为。在不同的生活领域，涣卦均提示需警惕涣散之害，同时揭示了解决之道：坚持正义，加强团结，促进沟通，以及在商业和事业上采取必要冒险的同时确保公平与无私。\n",
      "\n",
      "此卦在运势上预示能逐步走出困境，事业要求领导者强化组织凝聚力，商人需明智地冒险并寻求可靠伙伴，求学者需静心钻研提升自我，婚姻强调双方真诚相待，而做出决策时应排除私念，致力于共同目标，以此恢复秩序与繁荣。\n",
      "content: 涣卦\n",
      "Content: 节卦\n",
      "Summary: 节卦，卦象呈现坎（水）上兑（泽）下的结构，属于坎宫初世卦。此卦象征着节制与节约，寓意着要遏制过度消耗，确保生活的安康平顺。它告诫人们应当根据时局调整自身行为，做到适可而止，灵活应对变化。\n",
      "\n",
      "《象辞》描述了节卦的形象：泽中有水满溢，需筑堤以防洪，比喻君子应设立规范和道德准则，以指导行为。卦辞指出，适度的节制会带来亨通，但过分苦行则不是长久之策，不宜固执于此。\n",
      "\n",
      "从多个方面解析，节卦的教诲如下：\n",
      "\n",
      "- **时运**：鼓励持正守道，节制有度，可望成就名誉与财富。\n",
      "- **财运**：提倡正当经营，节俭管理，预示经济上的富足是可能达成的。\n",
      "- **家宅**：意味着家庭富裕且和谐，婚姻美满。\n",
      "- **身体**：强调健康上的自我控制，尤其是饮食上的节制。\n",
      "\n",
      "深入分析，节卦提醒我们：\n",
      "- **事业发展**：正处于上升期时，切忌冲动冒进，坚守正义与原则，谨慎行事可保持续兴旺。\n",
      "- **商业经营**：市场向好时，应抓住机会，但投资需要量力而行，不可贪婪。\n",
      "- **求学晋升**：保持自我约束，不过分追求，按部就班，自然可取得进展。\n",
      "- **情感关系**：建议顺其自然，避免过度痴迷，平衡的关系方能长久。\n",
      "- **决策智慧**：把握机遇，适时变通，节制亦是智慧，但过度节制导致‘苦’，非良策。因此，掌握节制的度至关重要，既要有所节制，也要懂得何时何地适度放松，以免适得其反。\n",
      "content: 节卦\n",
      "Content: 中孚卦\n",
      "Summary: 中孚卦，象征着中心的诚信与信赖，其卦象为上卦巽（风）下卦兑（泽），如同泽水上空吹拂的清风，形成内外交流、彼此响应的和谐景象。此卦强调诚信之重要性，不仅是个人品德的基础，也是社会交往和事业发展的关键。\n",
      "\n",
      "《象辞》对此进一步阐述，认为君子应从卦象中领悟，如同风带给人文化的熏陶与道德的引领，故在裁决讼狱之时，倾向于审慎考量，力求宽缓仁慈，体现德教为先的原则。\n",
      "\n",
      "中孚卦预示着对正直诚信之人而言，是吉祥之兆，能得到朋友的帮助，心想事成；而内心怀有邪念者，则会遭遇不利。在具体情境中，无论是经历生活中的风波、财务的经营，还是家庭关系及身心健康方面，保持诚信和真诚都将有助于克服难关，迎来平安与成功。\n",
      "\n",
      "于事业，诚信忠信是成功之道，必须持续践行正道，戒骄戒躁，不可孤立自我；商业上，则要求细致谨慎、坚守信誉、提供优质服务，以此赢得良好回报；在求学和名声追求上，更需在道德修养基础上不断精进，勇于面对挑战；而在婚姻爱情中，双方面的真诚相待是幸福的基石。\n",
      "\n",
      "整体运势提示，以诚信立足，无论何种境遇，都能秉持真诚，勇于改正错误，同时提升辨识能力，如此一来，无论是在个人决策还是团队协作中，都能无往不利，成就非凡。\n",
      "content: 中孚卦\n",
      "Content: 小过卦\n",
      "Summary: 小过卦，象征着轻微的过越与谨慎，由上震下艮两卦构成，雷在山上，预示着行动中需警惕与约束。此卦昭示着虽能亨通，但强调适宜于处理小事而非大举。卦象中的飞鸟遗音，寓意着高度可能带来危险，而低行则获吉祥。\n",
      "\n",
      "《象传》的解释加深了此卦的意涵：山巅震雷象征小过，君子领悟到应保持适度，行事不可过度恭谨、哀伤或节俭，强调平衡之道。邵雍对此卦的解读侧重于柔克刚的情境，建议持谨慎态度，不宜急进。\n",
      "\n",
      "《断易天机》指出，占得此卦意味着小事可行，大事则须避免，以防自身过失招惹是非。宋代邵雍和现代傅佩荣教授的解析进一步阐述，无论是个人时运、财务、家庭乃至身体健康，均需注意避免过度，保持中庸，以免引起嫉妒、亏损、家庭不和谐或健康问题。\n",
      "\n",
      "整体运势提醒，行事切忌冒进，应对市场、名誉、情感关系以及所有决策保持敏感与适应性，重视实际，量力而行。在各种事务上，要懂得适时收敛，明白过度与不及皆非良策，方能在小过的状态下，仍能确保平安吉祥，稳步前行。\n",
      "content: 小过卦\n",
      "Content: \"既济卦\n",
      "Summary: \"既济卦\"\n",
      "summary: \"既济卦在周易体系中呈现坎上离下的结构，象征水在火上，寓意着事物达到一个成功的平衡点。卦辞中提到'亨，小利贞，初吉终乱'，揭示了虽然当前情境通达，小有吉利，但若不谨慎维持，初期的吉祥最终可能导致混乱。《象辞》借水火既济之象，教导君子应当在安逸之时预见到潜在的危机，积极做好准备以防患于未然。\n",
      "\n",
      "《断易天机》将既济视为成就之后的警惕，强调了事物盛极必反的自然规律。邵雍解此卦，认为是成功的象征，告诫得卦者在得意之时更应重视坚忍与自重，避免过度扩展而导致盛运的衰退。傅佩荣先生从时运、财运、家宅、身体等多方面解析既济卦，提醒人们在各方面虽有收获，但仍需自省，防止后患。\n",
      "\n",
      "卦象背后的哲理是成功并非终点，而是一个新的开始，需要时刻思量可能发生的逆转。既济卦是坎离相叠的产物，反映了水与火的调和，提示了事物发展中的动态平衡与转化，要求我们在胜利时亦能预见并预防未来可能的挑战。此卦紧接小过卦之后，强调了对过往小过的修正能够促成成功，但这种成功需要智慧来维护，避免最终走向混乱。\n",
      "\n",
      "既济卦的占断中，强调名利兼收是暂时的现象，需居安思危，事业上既要保持警惕，又要善于把握时机继续前行；商业上则要灵活应对市场变化，不断开拓进取；在个人修养上，即使名利双全也不可骄傲自满，应持续努力，保持谦虚；恋爱婚姻中可能遭遇波折，需双方共同努力维系。总之，既济卦不仅是对成功的庆祝，更是对未来挑战的预警，提醒我们时刻保持清醒与进取，实现真正的长远发展。\n",
      "content: \"既济卦\n",
      "Content: 未济卦\n",
      "Summary: 未济卦，象征着事务尚未完成或目标未能达成的状态，其卦象由下坎（水）上离（火）构成，反映水火不容之象，意味着阴阳失位，事物发展未达和谐。《象辞》借水火分离之象，教诲君子需谨慎分辨事物本质，妥善安排事务。\n",
      "\n",
      "此卦强调，虽处运势低谷，事态混沌未明，但变机潜藏其中，预示未来仍怀希望。在具体情境中，得此卦者需面对不利条件，保持耐心与稳健，不宜急于求成，而应从小处着手，逐步积累，等待时机，以求最终突破困境，获得成功。\n",
      "\n",
      "从不同维度来看，未济卦提示：时运不佳，要求谨慎行事；财务状况堪忧，宜谨慎理财，步步为营；家庭关系或居住环境需要调整改善；身体健康上则要注意血液循环问题，用药需谨慎。事业与经商上均需保守策略，等待时机；求名之路需持续努力，关键时刻保持平和心态；婚姻恋爱面临转机，需把握机会；决策之时，应坚守中正原则，勤勉努力，顺其自然，不强求成果。\"\n",
      "\n",
      "未济卦不仅是对当前状态的描述，更蕴含了在逆境中寻求转变与成长的智慧，提醒人们即使在未完成、未成功的状态下，亦不可放弃，应持续努力，遵循天道，静待时机成熟。\n",
      "content: 未济卦\n"
     ]
    }
   ],
   "source": [
    "# 执行主函数\n",
    "main()"
   ]
  },
  {
   "cell_type": "code",
   "execution_count": 26,
   "id": "8408c88d-c81e-4f5f-837c-5d157dd1b37f",
   "metadata": {},
   "outputs": [],
   "source": [
    "def gen_data(raw_content):\n",
    "    \"\"\"\n",
    "    使用LangChain GPT-3.5调用处理单个数据样例。\n",
    "\n",
    "    :param raw_content: 原始数据样例。\n",
    "    :return: GPT-3.5模型生成的内容。\n",
    "    \"\"\"\n",
    "    # 系统消息定义背景和任务\n",
    "    system_message = SystemMessage(\n",
    "        content=\"\"\"\n",
    "        你是中国古典哲学大师，尤其擅长周易的哲学解读。\n",
    "\n",
    "        接下来，你收到的都是关于周易卦象的解释，你需要整理润色，并生成用于大模型训练的内容和格式。\n",
    "\n",
    "        示例输入：\n",
    "\n",
    "        师卦，此卦是异卦相叠，下卦为坎，上卦为坤。“师”指军队。坎为水、为险；坤为地、为顺，喻寓兵于农。兵凶战危，用兵乃圣人不得已而为之，但它可以顺利无阻碍地解决矛盾，因为顺乎形势，师出有名，故能化凶为吉。占得此卦，对于军事上率师出征非常有利，必无灾祸。师卦是天马出群之卦，以寡伏众之象。\n",
    "        师卦位于讼卦之后，《序卦》之中这样解释道：“讼必有众起，故受之以师。师者，众也。”争讼的人越来越多，以致形成了军队。\n",
    "\n",
    "        期待结果：\n",
    "\n",
    "        content:\"师卦\"\n",
    "        summary:\"在周易中，师卦是一个极具深意的卦象，它由两个异卦相叠组成：下卦坎（水）和上卦坤（地）。这一卦象代表“师”，即军队，寓意着兵力和农力的结合。在这里，坎卦象征着水和险难，而坤卦象征着地和顺从，暗示着通过将军事力量安置于民间，可以在必要时顺利调动。\n",
    "\n",
    "        师卦的核心哲学是：虽然兵力代表着危险和战争，但其使用应当是圣人不得已而为之的最后手段。在正确的情况下，军事力量可以顺应形势，将危险转化为吉祥。因此，在军事策略上，此卦象征着出征将会顺利，无灾祸。\n",
    "\n",
    "        师卦紧随讼卦（争讼卦），在《序卦》中解释为“讼必有众起，故受之以师”。这意味着争端激化至众多人群的参与，形成了类似军队的集体力量。\"\n",
    "\n",
    "        返回格式要求：\n",
    "        content:\"{卦名}\"\n",
    "        summary:\"{内容}\"\n",
    "        \"\"\"\n",
    "    )\n",
    "\n",
    "    # 人类消息包含原始数据样例\n",
    "    human_message = HumanMessage(\n",
    "        content=raw_content\n",
    "    )\n",
    "\n",
    "    # 构建消息列表并进行模型调用\n",
    "    messages = [system_message, human_message]\n",
    "    ai_message = chat(messages)\n",
    "\n",
    "    return ai_message.content"
   ]
  },
  {
   "cell_type": "code",
   "execution_count": 27,
   "id": "9fbb1ac5-0f0d-4dd8-ae4b-39227a606bf2",
   "metadata": {},
   "outputs": [
    {
     "name": "stderr",
     "output_type": "stream",
     "text": [
      "/root/miniconda3/lib/python3.11/site-packages/langchain_core/_api/deprecation.py:189: LangChainDeprecationWarning: The function `__call__` was deprecated in LangChain 0.1.7 and will be removed in 0.2.0. Use invoke instead.\n",
      "  warn_deprecated(\n"
     ]
    },
    {
     "name": "stdout",
     "output_type": "stream",
     "text": [
      "Content: 蒙卦\n",
      "Summary: 在周易中，蒙卦是一个充满着启蒙和通达意义的卦象。它由下卦坎（水）和上卦艮（山）组成，形象为山下有险。这象征着初时迷惑不知方向，须忍耐待机而动，凡事多听取别人意见，则运可通。蒙卦代表着混乱无序的情况下，需要勇敢坚毅的行动来扭转局面，同时也需要接受严格教育，培养奋发图强的精神，务必脚踏实地，杜绝好高骛远。在事业、经商、求名、婚恋等方面，蒙卦都提示着需要基础教育的重要性，同时也需要耐心等待适当时机，并接受长辈的教诲和严酷的考验。\n"
     ]
    },
    {
     "name": "stderr",
     "output_type": "stream",
     "text": [
      "/root/miniconda3/lib/python3.11/site-packages/langchain_core/_api/deprecation.py:189: LangChainDeprecationWarning: The function `__call__` was deprecated in LangChain 0.1.7 and will be removed in 0.2.0. Use invoke instead.\n",
      "  warn_deprecated(\n"
     ]
    },
    {
     "name": "stdout",
     "output_type": "stream",
     "text": [
      "Content: 屯卦\n",
      "Summary: 在周易中，屯卦代表着大吉大利，它由下卦震（雷）上卦坎（水）组成。这一卦象象征着最初的困难和阻碍，但需要坚韧不拔的品性和果敢的行动才能取得吉祥。屯卦告诫着困境中需要勇往直前，小心翼翼，才可期待后续的顺利解决。\n",
      "\n",
      "根据《象辞》解释，屯卦的卦象是由上坎下震组成，坎象征云、震象征雷。这象征着云行于上，雷动于下，君子观此卦象，取法于云雷，以云的恩泽，雷的威严来治理国事。\n",
      "\n",
      "屯卦的解释中强调：身处困境时需要步步为营，有初难后解之象。事业上，积极进取、行动果断、勇往直前，灵活机动，可获得大的成功；同时需要他人相助。对于经商、求名、婚恋等方面，亦应坚忍不拔、积极追求，方可获得成功。然而，需要意识到困难状态下的需要得到贤德之人的帮助才能摆脱，以乐观主义精神处世，才能取得成就。\n"
     ]
    },
    {
     "name": "stderr",
     "output_type": "stream",
     "text": [
      "/root/miniconda3/lib/python3.11/site-packages/langchain_core/_api/deprecation.py:189: LangChainDeprecationWarning: The function `__call__` was deprecated in LangChain 0.1.7 and will be removed in 0.2.0. Use invoke instead.\n",
      "  warn_deprecated(\n"
     ]
    },
    {
     "name": "stdout",
     "output_type": "stream",
     "text": [
      "Content: 需卦\n",
      "Summary: \n"
     ]
    },
    {
     "name": "stderr",
     "output_type": "stream",
     "text": [
      "/root/miniconda3/lib/python3.11/site-packages/langchain_core/_api/deprecation.py:189: LangChainDeprecationWarning: The function `__call__` was deprecated in LangChain 0.1.7 and will be removed in 0.2.0. Use invoke instead.\n",
      "  warn_deprecated(\n"
     ]
    },
    {
     "name": "stdout",
     "output_type": "stream",
     "text": [
      "Content: 讼卦\n",
      "Summary: 讼卦是一卦象，由乾上坎下组成。乾代表天，坎代表水，这两者相违相異，造成了讼卦的卦象。在讼卦中，提示人们要杜绝争讼，谋事之初必须慎之又慎。讼卦虽然有利可图，但必须警惕戒惧，中间吉利，终将带来凶险。讼卦出现时，有利于会见贵族王公，但不利于涉水渡河。这表明事业起初顺利，有利可图，继而受挫，需警惕慎之又慎，不得固执已见。避免介入诉讼纠纷的争执之中，采取退让的态度，求得化解，安于正理，可避免意外之灾。在事业、经商、求名、婚恋和决策等方面，讼卦都提示人们要警惕争讼之灾，慎之又慎，以谋始，以杜绝争讼为意。\n"
     ]
    },
    {
     "name": "stderr",
     "output_type": "stream",
     "text": [
      "/root/miniconda3/lib/python3.11/site-packages/langchain_core/_api/deprecation.py:189: LangChainDeprecationWarning: The function `__call__` was deprecated in LangChain 0.1.7 and will be removed in 0.2.0. Use invoke instead.\n",
      "  warn_deprecated(\n"
     ]
    },
    {
     "name": "stdout",
     "output_type": "stream",
     "text": [
      "Content: 师卦\n",
      "Summary: 师卦是一个由坎卦（水）上卦坤卦（地）所组成的卦象，代表着军队总指挥的军情占卜，预示着没有灾祸。在这个卦象中，坤为地，坎为水，象征着地中有水，君子观此卦象则取法于大地容纳江河之象，用来比喻收容和滋养大众。根据《断易天机》解，师即兵众，只有选择德高望重的长者来统率军队，才能得到吉祥无咎。而根据北宋易学家邵雍解，得到此卦者会面临困难重重，需要包容别人，排除万难。师卦象征着养兵聚众，出师攻伐之象，但也暗示着困难重重，需要以正规行事，密切合作及严于律已，方能成功。在事业、经商、求名、婚恋和决策上都需要面对困难，但可通过灵活应对和坚定意志最终取得成功。\n"
     ]
    },
    {
     "name": "stderr",
     "output_type": "stream",
     "text": [
      "/root/miniconda3/lib/python3.11/site-packages/langchain_core/_api/deprecation.py:189: LangChainDeprecationWarning: The function `__call__` was deprecated in LangChain 0.1.7 and will be removed in 0.2.0. Use invoke instead.\n",
      "  warn_deprecated(\n"
     ]
    },
    {
     "name": "stdout",
     "output_type": "stream",
     "text": [
      "Content: 比卦\n",
      "Summary: 在周易中，比卦是一个吉利的卦象。它代表着同时再次卜筮，仍然大吉大利，预示长期的吉祥而没有灾祸。然而，也暗示着不愿臣服的邦国迟迟不来者将会有难。\n",
      "\n",
      "比卦的核心哲学是：相亲相依，长期的亲密和宽容将带来吉祥。它反映了相亲相辅、亲密无间、和乐相处的道理。坎上坤下，水附大地，地纳河海，相互依赖，亲密无间，象征着和乐相处的意境。\n",
      "\n",
      "在运势、事业、经商、求名、婚恋等方面，比卦都预示着顺利成功，得到他人的帮助和辅佐。需要待人宽厚、正直、诚实、信任，在与他人的交往中讲究道德，遵守信义。同时，也需要警惕选择朋友，避免与品行不端的人结交，而应与高明之人友好往来，并获得其帮助。\n"
     ]
    },
    {
     "name": "stderr",
     "output_type": "stream",
     "text": [
      "/root/miniconda3/lib/python3.11/site-packages/langchain_core/_api/deprecation.py:189: LangChainDeprecationWarning: The function `__call__` was deprecated in LangChain 0.1.7 and will be removed in 0.2.0. Use invoke instead.\n",
      "  warn_deprecated(\n"
     ]
    },
    {
     "name": "stdout",
     "output_type": "stream",
     "text": [
      "Content: 坤卦\n",
      "Summary: 坤卦是一个大吉大利的卦象，代表着柔顺、顺应天道、承载万物、伸展无穷的特性。坤卦的核心哲学是先迷失而后得到正确方向，因此在旅行中先迷后得，财物方面宜往西南。总体而言，坤卦代表安定、顺利和安宁。在事业上，需要以静制动，不宜急进，重视内心修养，容忍负重，以诚信和大度为原则。在经商方面，应稳健经营，遇挫折要总结经验，谨慎行事。在婚恋方面，适宜以柔克刚，以温柔待人，可得美好姻缘。在决策上，需要具备忠厚、温和的性格，待人真诚，可得到他人的帮助，但也要小心提防小人的伤害。\n"
     ]
    },
    {
     "name": "stderr",
     "output_type": "stream",
     "text": [
      "/root/miniconda3/lib/python3.11/site-packages/langchain_core/_api/deprecation.py:189: LangChainDeprecationWarning: The function `__call__` was deprecated in LangChain 0.1.7 and will be removed in 0.2.0. Use invoke instead.\n",
      "  warn_deprecated(\n"
     ]
    },
    {
     "name": "stdout",
     "output_type": "stream",
     "text": [
      "Content: 乾卦\n",
      "Summary: 乾卦是《易经》六十四卦之首，由六个阳爻组成，象征天，代表刚健、强健、大通的意义。在《象辞》中指出，天行健，君子应当以自强不息为行事准则。乾卦预示着吉祥如意，但需要行正道才能永远亨通。古代解卦家如邵雍和傅佩荣都认为得乾卦者宜自强不息，名利双收，但需谨慎过于刚直之嫌。在传统解卦中，乾卦预示着事业兴盛强健，但也提示了盛极必衰的道理，教诲人们谨慎小心，保持冷静谦和的态度，以保证事业成功。在经商、求名、婚恋等方面也提出了相应的建议，强调应修德养德，保持正直与公允，自强不息，才能克服困难，取得成功。\n"
     ]
    }
   ],
   "source": [
    "# 执行主函数\n",
    "main()"
   ]
  }
 ],
 "metadata": {
  "kernelspec": {
   "display_name": "Python 3 (ipykernel)",
   "language": "python",
   "name": "python3"
  },
  "language_info": {
   "codemirror_mode": {
    "name": "ipython",
    "version": 3
   },
   "file_extension": ".py",
   "mimetype": "text/x-python",
   "name": "python",
   "nbconvert_exporter": "python",
   "pygments_lexer": "ipython3",
   "version": "3.10.14"
  }
 },
 "nbformat": 4,
 "nbformat_minor": 5
}
